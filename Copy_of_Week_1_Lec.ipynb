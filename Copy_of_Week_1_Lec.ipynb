{
  "nbformat": 4,
  "nbformat_minor": 0,
  "metadata": {
    "colab": {
      "name": "Copy of Week_1_Lec.ipynb",
      "provenance": [],
      "collapsed_sections": [],
      "toc_visible": true,
      "authorship_tag": "ABX9TyNSMri4o/ZEP5FGE7+J7T4p",
      "include_colab_link": true
    },
    "kernelspec": {
      "name": "python3",
      "display_name": "Python 3"
    }
  },
  "cells": [
    {
      "cell_type": "markdown",
      "metadata": {
        "id": "view-in-github",
        "colab_type": "text"
      },
      "source": [
        "<a href=\"https://colab.research.google.com/github/nzs5368/DS200-wk1-lec/blob/main/Copy_of_Week_1_Lec.ipynb\" target=\"_parent\"><img src=\"https://colab.research.google.com/assets/colab-badge.svg\" alt=\"Open In Colab\"/></a>"
      ]
    },
    {
      "cell_type": "markdown",
      "metadata": {
        "id": "zaexptN_ZVov"
      },
      "source": [
        "# What is Data Science\n",
        "\n"
      ]
    },
    {
      "cell_type": "markdown",
      "metadata": {
        "id": "uaFCUf1vbArd"
      },
      "source": [
        "\n",
        "\n",
        "*   Large and diverse data sets are prevalent in the modern world\n",
        "*   Data science is about utilizing these vast data sets to understand patterns and make smarter decisions\n",
        "*  Exploration: identifying patterns, visualization, and descriptive statistics\n",
        "*  Prediction: informed guesses, machine learning, and optimization \n",
        "*  Inference: Quantifying accuracy, statistical tests and modeling \n",
        "\n"
      ]
    },
    {
      "cell_type": "markdown",
      "metadata": {
        "id": "5gsqNKK3azFG"
      },
      "source": [
        "## Computationial Tools & Statistical Techniques\n",
        "\n",
        "\n",
        "\n",
        "*   We will use Python 3, along with various libraries containing tools for data visualization, data management, and machine learning\n",
        "*   GoogleColab and Jupyter Notebooks\n",
        "*  We need to understand core statistical concepts such as: testing hypotheses, estimating confidence, and predicting unknown quantities.\n",
        "*  Leverage our computational tools to apply these statistical methods to a variety of data\n",
        "\n"
      ]
    },
    {
      "cell_type": "markdown",
      "metadata": {
        "id": "WKlzBNY6a8B8"
      },
      "source": [
        "## Why Data Science?"
      ]
    },
    {
      "cell_type": "markdown",
      "metadata": {
        "id": "1s4N5DlrZQyO"
      },
      "source": [
        "# Plotting the Classics\n",
        "\n",
        "This is a simple example meant to demonstrate the application of basic data visualization techniques to a large text dataset.  It will seem quick and simple, but we are drawing conclusions from a large text data set, showing the computational power at our disposal!\n",
        "\n",
        "In this example, we will explore statistics for two classic novels: The Adventures of Huckleberry Finn by Mark Twain, and Little Women by Louisa May Alcott. The text of any book can be read by a computer at great speed. Books published before 1923 are currently in the public domain, meaning that everyone has the right to copy or use the text in any way. Project Gutenberg is a website that publishes public domain books online. Using Python, we can load the text of these books directly from the web.\n",
        "\n",
        "This example is meant to illustrate some of the broad themes of this text. Don't worry if the details of the program don't yet make sense. Instead, focus on interpreting the images generated below. Later sections of the text will describe most of the features of the Python programming language used below.\n",
        "\n",
        "First, we read the text of both books into lists of chapters, called huck_finn_chapters and little_women_chapters. In Python, a name cannot contain any spaces, and so we will often use an underscore _ to stand in for a space. The = in the lines below give a name on the left to the result of some computation described on the right. A uniform resource locator or URL is an address on the Internet for some content; in this case, the text of a book. The # symbol starts a comment, which is ignored by the computer but helpful for people reading the code."
      ]
    },
    {
      "cell_type": "code",
      "metadata": {
        "colab": {
          "base_uri": "https://localhost:8080/"
        },
        "id": "EVkFftgoINZZ",
        "outputId": "06e0557f-0bdf-4461-ac29-aad05e423484"
      },
      "source": [
        "# Stuff that will appear at the top of notebooks;\n",
        "# You don't have to understand how this works or change it for now.\n",
        "\n",
        "from datascience import *\n",
        "import numpy as np\n",
        "%matplotlib inline\n",
        "import matplotlib.pyplot as plots\n",
        "plots.style.use('fivethirtyeight')\n",
        "import warnings\n",
        "warnings.simplefilter(action=\"ignore\", category=FutureWarning)\n",
        "\n",
        "from urllib.request import urlopen \n",
        "import re\n",
        "def read_url(url): \n",
        "    return re.sub('\\\\s+', ' ', urlopen(url).read().decode())"
      ],
      "execution_count": 2,
      "outputs": [
        {
          "output_type": "stream",
          "text": [
            "/usr/local/lib/python3.6/dist-packages/datascience/tables.py:17: MatplotlibDeprecationWarning: The 'warn' parameter of use() is deprecated since Matplotlib 3.1 and will be removed in 3.3.  If any parameter follows 'warn', they should be pass as keyword, not positionally.\n",
            "  matplotlib.use('agg', warn=False)\n",
            "/usr/local/lib/python3.6/dist-packages/datascience/util.py:10: MatplotlibDeprecationWarning: The 'warn' parameter of use() is deprecated since Matplotlib 3.1 and will be removed in 3.3.  If any parameter follows 'warn', they should be pass as keyword, not positionally.\n",
            "  matplotlib.use('agg', warn=False)\n"
          ],
          "name": "stderr"
        }
      ]
    },
    {
      "cell_type": "code",
      "metadata": {
        "id": "G6RFsiNTCuue"
      },
      "source": [
        "# read the books\n",
        "huck_finn_url = 'https://www.inferentialthinking.com/data/huck_finn.txt'\n",
        "huck_finn_text = read_url(huck_finn_url)\n",
        "huck_finn_chapters = huck_finn_text.split('CHAPTER ')[44:]\n",
        "\n",
        "little_women_url = 'https://www.inferentialthinking.com/data/little_women.txt'\n",
        "little_women_text = read_url(little_women_url)\n",
        "little_women_chapters = little_women_text.split('CHAPTER ')[1:]"
      ],
      "execution_count": 3,
      "outputs": []
    },
    {
      "cell_type": "markdown",
      "metadata": {
        "id": "ix-0Cg73C52k"
      },
      "source": [
        "While a computer cannot understand the text of a book, it can provide us with some insight into the structure of the text. The name huck_finn_chapters is currently bound to a list of all the chapters in the book. We can place them into a table to see how each chapter begins."
      ]
    },
    {
      "cell_type": "code",
      "metadata": {
        "id": "SofXkEIOC8CF",
        "colab": {
          "base_uri": "https://localhost:8080/",
          "height": 388
        },
        "outputId": "fddd1ab1-39ac-4475-adc0-43b5e6d25ac5"
      },
      "source": [
        "# Display the chapters of Huckleberry Finn in a table.\n",
        "\n",
        "Table().with_column('Chapters', huck_finn_chapters)"
      ],
      "execution_count": 4,
      "outputs": [
        {
          "output_type": "execute_result",
          "data": {
            "text/html": [
              "<table border=\"1\" class=\"dataframe\">\n",
              "    <thead>\n",
              "        <tr>\n",
              "            <th>Chapters</th>\n",
              "        </tr>\n",
              "    </thead>\n",
              "    <tbody>\n",
              "        <tr>\n",
              "            <td>I. YOU don't know about me without you have read a book  ...</td>\n",
              "        </tr>\n",
              "        <tr>\n",
              "            <td>II. WE went tiptoeing along a path amongst the trees bac ...</td>\n",
              "        </tr>\n",
              "        <tr>\n",
              "            <td>III. WELL, I got a good going-over in the morning from o ...</td>\n",
              "        </tr>\n",
              "        <tr>\n",
              "            <td>IV. WELL, three or four months run along, and it was wel ...</td>\n",
              "        </tr>\n",
              "        <tr>\n",
              "            <td>V. I had shut the door to. Then I turned around and ther ...</td>\n",
              "        </tr>\n",
              "        <tr>\n",
              "            <td>VI. WELL, pretty soon the old man was up and around agai ...</td>\n",
              "        </tr>\n",
              "        <tr>\n",
              "            <td>VII. \"GIT up! What you 'bout?\" I opened my eyes and look ...</td>\n",
              "        </tr>\n",
              "        <tr>\n",
              "            <td>VIII. THE sun was up so high when I waked that I judged  ...</td>\n",
              "        </tr>\n",
              "        <tr>\n",
              "            <td>IX. I wanted to go and look at a place right about the m ...</td>\n",
              "        </tr>\n",
              "        <tr>\n",
              "            <td>X. AFTER breakfast I wanted to talk about the dead man a ...</td>\n",
              "        </tr>\n",
              "    </tbody>\n",
              "</table>\n",
              "<p>... (33 rows omitted)</p>"
            ],
            "text/plain": [
              "Chapters\n",
              "I. YOU don't know about me without you have read a book  ...\n",
              "II. WE went tiptoeing along a path amongst the trees bac ...\n",
              "III. WELL, I got a good going-over in the morning from o ...\n",
              "IV. WELL, three or four months run along, and it was wel ...\n",
              "V. I had shut the door to. Then I turned around and ther ...\n",
              "VI. WELL, pretty soon the old man was up and around agai ...\n",
              "VII. \"GIT up! What you 'bout?\" I opened my eyes and look ...\n",
              "VIII. THE sun was up so high when I waked that I judged  ...\n",
              "IX. I wanted to go and look at a place right about the m ...\n",
              "X. AFTER breakfast I wanted to talk about the dead man a ...\n",
              "... (33 rows omitted)"
            ]
          },
          "metadata": {
            "tags": []
          },
          "execution_count": 4
        }
      ]
    },
    {
      "cell_type": "markdown",
      "metadata": {
        "id": "BFYBOXD-DADd"
      },
      "source": [
        "Each chapter begins with a chapter number in Roman numerals, followed by the first sentence of the chapter. Project Gutenberg has printed the first word of each chapter in upper case."
      ]
    },
    {
      "cell_type": "markdown",
      "metadata": {
        "id": "r0QX0LSRDEa4"
      },
      "source": [
        "### Literary Characters\n",
        "\n",
        "The Adventures of Huckleberry Finn describes a journey that Huck and Jim take along the Mississippi River. Tom Sawyer joins them towards the end as the action heats up. Having loaded the text, we can quickly visualize how many times these characters have each been mentioned at any point in the book."
      ]
    },
    {
      "cell_type": "code",
      "metadata": {
        "id": "1Xf41UKWDKpi",
        "colab": {
          "base_uri": "https://localhost:8080/",
          "height": 343
        },
        "outputId": "8da0903b-a05a-456f-910b-c69945974b3a"
      },
      "source": [
        "# Count how many times the names Jim, Tom, and Huck appear in each chapter.\n",
        "\n",
        "counts = Table().with_columns([\n",
        "        'Jim', np.char.count(huck_finn_chapters, 'Jim'),\n",
        "        'Tom', np.char.count(huck_finn_chapters, 'Tom'),\n",
        "        'Huck', np.char.count(huck_finn_chapters, 'Huck')\n",
        "    ])\n",
        "\n",
        "# Plot the cumulative counts:\n",
        "# how many times in Chapter 1, how many times in Chapters 1 and 2, and so on.\n",
        "\n",
        "cum_counts = counts.cumsum().with_column('Chapter', np.arange(1, 44, 1))\n",
        "cum_counts.plot(column_for_xticks=3)\n",
        "plots.title('Cumulative Number of Times Each Name Appears', y=1.08);"
      ],
      "execution_count": 5,
      "outputs": [
        {
          "output_type": "display_data",
          "data": {
            "image/png": "[encoded data removed]",
            "text/plain": [
              "<Figure size 432x288 with 1 Axes>"
            ]
          },
          "metadata": {
            "tags": []
          }
        }
      ]
    },
    {
      "cell_type": "markdown",
      "metadata": {
        "id": "R8LCI_x-DQJ5"
      },
      "source": [
        "In the plot above, the horizontal axis shows chapter numbers and the vertical axis shows how many times each character has been mentioned up to and including that chapter.\n",
        "\n",
        "You can see that Jim is a central character by the large number of times his name appears. Notice how Tom is hardly mentioned for much of the book until he arrives and joins Huck and Jim, after Chapter 30. His curve and Jim's rise sharply at that point, as the action involving both of them intensifies. As for Huck, his name hardly appears at all, because he is the narrator.\n",
        "\n",
        "Little Women is a story of four sisters growing up together during the civil war. In this book, chapter numbers are spelled out and chapter titles are written in all capital letters."
      ]
    },
    {
      "cell_type": "code",
      "metadata": {
        "id": "WEIsL_xbDSU8",
        "colab": {
          "base_uri": "https://localhost:8080/",
          "height": 388
        },
        "outputId": "b2e89639-d15f-4c31-83ce-475055b0dc1b"
      },
      "source": [
        "# The chapters of Little Women, in a table\n",
        "\n",
        "Table().with_column('Chapters', little_women_chapters)"
      ],
      "execution_count": 6,
      "outputs": [
        {
          "output_type": "execute_result",
          "data": {
            "text/html": [
              "<table border=\"1\" class=\"dataframe\">\n",
              "    <thead>\n",
              "        <tr>\n",
              "            <th>Chapters</th>\n",
              "        </tr>\n",
              "    </thead>\n",
              "    <tbody>\n",
              "        <tr>\n",
              "            <td>ONE PLAYING PILGRIMS \"Christmas won't be Christmas witho ...</td>\n",
              "        </tr>\n",
              "        <tr>\n",
              "            <td>TWO A MERRY CHRISTMAS Jo was the first to wake in the gr ...</td>\n",
              "        </tr>\n",
              "        <tr>\n",
              "            <td>THREE THE LAURENCE BOY \"Jo! Jo! Where are you?\" cried Me ...</td>\n",
              "        </tr>\n",
              "        <tr>\n",
              "            <td>FOUR BURDENS \"Oh, dear, how hard it does seem to take up ...</td>\n",
              "        </tr>\n",
              "        <tr>\n",
              "            <td>FIVE BEING NEIGHBORLY \"What in the world are you going t ...</td>\n",
              "        </tr>\n",
              "        <tr>\n",
              "            <td>SIX BETH FINDS THE PALACE BEAUTIFUL The big house did pr ...</td>\n",
              "        </tr>\n",
              "        <tr>\n",
              "            <td>SEVEN AMY'S VALLEY OF HUMILIATION \"That boy is a perfect ...</td>\n",
              "        </tr>\n",
              "        <tr>\n",
              "            <td>EIGHT JO MEETS APOLLYON \"Girls, where are you going?\" as ...</td>\n",
              "        </tr>\n",
              "        <tr>\n",
              "            <td>NINE MEG GOES TO VANITY FAIR \"I do think it was the most ...</td>\n",
              "        </tr>\n",
              "        <tr>\n",
              "            <td>TEN THE P.C. AND P.O. As spring came on, a new set of am ...</td>\n",
              "        </tr>\n",
              "    </tbody>\n",
              "</table>\n",
              "<p>... (37 rows omitted)</p>"
            ],
            "text/plain": [
              "Chapters\n",
              "ONE PLAYING PILGRIMS \"Christmas won't be Christmas witho ...\n",
              "TWO A MERRY CHRISTMAS Jo was the first to wake in the gr ...\n",
              "THREE THE LAURENCE BOY \"Jo! Jo! Where are you?\" cried Me ...\n",
              "FOUR BURDENS \"Oh, dear, how hard it does seem to take up ...\n",
              "FIVE BEING NEIGHBORLY \"What in the world are you going t ...\n",
              "SIX BETH FINDS THE PALACE BEAUTIFUL The big house did pr ...\n",
              "SEVEN AMY'S VALLEY OF HUMILIATION \"That boy is a perfect ...\n",
              "EIGHT JO MEETS APOLLYON \"Girls, where are you going?\" as ...\n",
              "NINE MEG GOES TO VANITY FAIR \"I do think it was the most ...\n",
              "TEN THE P.C. AND P.O. As spring came on, a new set of am ...\n",
              "... (37 rows omitted)"
            ]
          },
          "metadata": {
            "tags": []
          },
          "execution_count": 6
        }
      ]
    },
    {
      "cell_type": "markdown",
      "metadata": {
        "id": "s_91u8E5DUlX"
      },
      "source": [
        "We can track the mentions of main characters to learn about the plot of this book as well. The protagonist Jo interacts with her sisters Meg, Beth, and Amy regularly, up until Chapter 27 when she moves to New York alone."
      ]
    },
    {
      "cell_type": "code",
      "metadata": {
        "id": "IqOcNsUMDVFj",
        "colab": {
          "base_uri": "https://localhost:8080/",
          "height": 343
        },
        "outputId": "e499e017-674f-4855-94d8-d91705292052"
      },
      "source": [
        "# Counts of character names in Little Women\n",
        "\n",
        "counts = Table().with_columns([\n",
        "        'Amy', np.char.count(little_women_chapters, 'Amy'),\n",
        "        'Beth', np.char.count(little_women_chapters, 'Beth'),\n",
        "        'Jo', np.char.count(little_women_chapters, 'Jo'),\n",
        "        'Meg', np.char.count(little_women_chapters, 'Meg'),\n",
        "        'Laurie', np.char.count(little_women_chapters, 'Laurie'),\n",
        "\n",
        "    ])\n",
        "\n",
        "# Plot the cumulative counts.\n",
        "\n",
        "cum_counts = counts.cumsum().with_column('Chapter', np.arange(1, 48, 1))\n",
        "cum_counts.plot(column_for_xticks=5)\n",
        "plots.title('Cumulative Number of Times Each Name Appears', y=1.08);"
      ],
      "execution_count": 7,
      "outputs": [
        {
          "output_type": "display_data",
          "data": {
            "image/png": "[encoded data removed]",
            "text/plain": [
              "<Figure size 432x288 with 1 Axes>"
            ]
          },
          "metadata": {
            "tags": []
          }
        }
      ]
    },
    {
      "cell_type": "markdown",
      "metadata": {
        "id": "EU6ApyLDDfbZ"
      },
      "source": [
        "Laurie is a young man who marries one of the girls in the end. See if you can use the plots to guess which one."
      ]
    },
    {
      "cell_type": "markdown",
      "metadata": {
        "id": "jGrjm60PDlgn"
      },
      "source": [
        "### Another Kind of Character \n",
        "\n",
        "In some situations, the relationships between quantities allow us to make predictions. This text will explore how to make accurate predictions based on incomplete information and develop methods for combining multiple sources of uncertain information to make decisions.\n",
        "\n",
        "As an example of visualizing information derived from multiple sources, let us first use the computer to get some information that would be tedious to acquire by hand. In the context of novels, the word \"character\" has a second meaning: a printed symbol such as a letter or number or punctuation symbol. Here, we ask the computer to count the number of characters and the number of periods in each chapter of both *Huckleberry Finn* and *Little Women*."
      ]
    },
    {
      "cell_type": "code",
      "metadata": {
        "id": "TV9I6uA3DfEk"
      },
      "source": [
        "# In each chapter, count the number of all characters;\n",
        "# call this the \"length\" of the chapter.\n",
        "# Also count the number of periods.\n",
        "\n",
        "chars_periods_huck_finn = Table().with_columns([\n",
        "        'Huck Finn Chapter Length', [len(s) for s in huck_finn_chapters],\n",
        "        'Number of Periods', np.char.count(huck_finn_chapters, '.')\n",
        "    ])\n",
        "chars_periods_little_women = Table().with_columns([\n",
        "        'Little Women Chapter Length', [len(s) for s in little_women_chapters],\n",
        "        'Number of Periods', np.char.count(little_women_chapters, '.')\n",
        "    ])"
      ],
      "execution_count": 8,
      "outputs": []
    },
    {
      "cell_type": "markdown",
      "metadata": {
        "id": "FkdY-ajADuKB"
      },
      "source": [
        "Here are the data for *Huckleberry Finn*. Each row of the table corresponds to one chapter of the novel and displays the number of characters as well as the number of periods in the chapter. Not surprisingly, chapters with fewer characters also tend to have fewer periods, in general: the shorter the chapter, the fewer sentences there tend to be, and vice versa. The relation is not entirely predictable, however, as sentences are of varying lengths and can involve other punctuation such as question marks."
      ]
    },
    {
      "cell_type": "code",
      "metadata": {
        "id": "mpcuw6J5DxYb",
        "colab": {
          "base_uri": "https://localhost:8080/",
          "height": 388
        },
        "outputId": "031f8559-5e9d-487b-a3c6-fec5745b9ac7"
      },
      "source": [
        "chars_periods_huck_finn"
      ],
      "execution_count": 9,
      "outputs": [
        {
          "output_type": "execute_result",
          "data": {
            "text/html": [
              "<table border=\"1\" class=\"dataframe\">\n",
              "    <thead>\n",
              "        <tr>\n",
              "            <th>Huck Finn Chapter Length</th> <th>Number of Periods</th>\n",
              "        </tr>\n",
              "    </thead>\n",
              "    <tbody>\n",
              "        <tr>\n",
              "            <td>7026                    </td> <td>66               </td>\n",
              "        </tr>\n",
              "        <tr>\n",
              "            <td>11982                   </td> <td>117              </td>\n",
              "        </tr>\n",
              "        <tr>\n",
              "            <td>8529                    </td> <td>72               </td>\n",
              "        </tr>\n",
              "        <tr>\n",
              "            <td>6799                    </td> <td>84               </td>\n",
              "        </tr>\n",
              "        <tr>\n",
              "            <td>8166                    </td> <td>91               </td>\n",
              "        </tr>\n",
              "        <tr>\n",
              "            <td>14550                   </td> <td>125              </td>\n",
              "        </tr>\n",
              "        <tr>\n",
              "            <td>13218                   </td> <td>127              </td>\n",
              "        </tr>\n",
              "        <tr>\n",
              "            <td>22208                   </td> <td>249              </td>\n",
              "        </tr>\n",
              "        <tr>\n",
              "            <td>8081                    </td> <td>71               </td>\n",
              "        </tr>\n",
              "        <tr>\n",
              "            <td>7036                    </td> <td>70               </td>\n",
              "        </tr>\n",
              "    </tbody>\n",
              "</table>\n",
              "<p>... (33 rows omitted)</p>"
            ],
            "text/plain": [
              "Huck Finn Chapter Length | Number of Periods\n",
              "7026                     | 66\n",
              "11982                    | 117\n",
              "8529                     | 72\n",
              "6799                     | 84\n",
              "8166                     | 91\n",
              "14550                    | 125\n",
              "13218                    | 127\n",
              "22208                    | 249\n",
              "8081                     | 71\n",
              "7036                     | 70\n",
              "... (33 rows omitted)"
            ]
          },
          "metadata": {
            "tags": []
          },
          "execution_count": 9
        }
      ]
    },
    {
      "cell_type": "markdown",
      "metadata": {
        "id": "d0vVZCtXD5jo"
      },
      "source": [
        "Similarly, for *Little Women*."
      ]
    },
    {
      "cell_type": "code",
      "metadata": {
        "id": "LBjlsW9_D1g3",
        "colab": {
          "base_uri": "https://localhost:8080/",
          "height": 388
        },
        "outputId": "dd0435ee-1262-4fa7-e7e6-f2b03c9af266"
      },
      "source": [
        "chars_periods_little_women"
      ],
      "execution_count": 10,
      "outputs": [
        {
          "output_type": "execute_result",
          "data": {
            "text/html": [
              "<table border=\"1\" class=\"dataframe\">\n",
              "    <thead>\n",
              "        <tr>\n",
              "            <th>Little Women Chapter Length</th> <th>Number of Periods</th>\n",
              "        </tr>\n",
              "    </thead>\n",
              "    <tbody>\n",
              "        <tr>\n",
              "            <td>21759                      </td> <td>189              </td>\n",
              "        </tr>\n",
              "        <tr>\n",
              "            <td>22148                      </td> <td>188              </td>\n",
              "        </tr>\n",
              "        <tr>\n",
              "            <td>20558                      </td> <td>231              </td>\n",
              "        </tr>\n",
              "        <tr>\n",
              "            <td>25526                      </td> <td>195              </td>\n",
              "        </tr>\n",
              "        <tr>\n",
              "            <td>23395                      </td> <td>255              </td>\n",
              "        </tr>\n",
              "        <tr>\n",
              "            <td>14622                      </td> <td>140              </td>\n",
              "        </tr>\n",
              "        <tr>\n",
              "            <td>14431                      </td> <td>131              </td>\n",
              "        </tr>\n",
              "        <tr>\n",
              "            <td>22476                      </td> <td>214              </td>\n",
              "        </tr>\n",
              "        <tr>\n",
              "            <td>33767                      </td> <td>337              </td>\n",
              "        </tr>\n",
              "        <tr>\n",
              "            <td>18508                      </td> <td>185              </td>\n",
              "        </tr>\n",
              "    </tbody>\n",
              "</table>\n",
              "<p>... (37 rows omitted)</p>"
            ],
            "text/plain": [
              "Little Women Chapter Length | Number of Periods\n",
              "21759                       | 189\n",
              "22148                       | 188\n",
              "20558                       | 231\n",
              "25526                       | 195\n",
              "23395                       | 255\n",
              "14622                       | 140\n",
              "14431                       | 131\n",
              "22476                       | 214\n",
              "33767                       | 337\n",
              "18508                       | 185\n",
              "... (37 rows omitted)"
            ]
          },
          "metadata": {
            "tags": []
          },
          "execution_count": 10
        }
      ]
    },
    {
      "cell_type": "markdown",
      "metadata": {
        "id": "9eBznnOREJPP"
      },
      "source": [
        "You can see that the chapters of *Little Women* are in general longer than those of *Huckleberry Finn*. Let us see if these two simple variables – the length and number of periods in each chapter – can tell us anything more about the two books. One way to do this is to plot both sets of data on the same axes.\n",
        "\n",
        "In the plot below, there is a dot for each chapter in each book. Blue dots correspond to *Huckleberry Finn* and gold dots to *Little Women*. The horizontal axis represents the number of periods and the vertical axis represents the number of characters."
      ]
    },
    {
      "cell_type": "code",
      "metadata": {
        "id": "s15aBhQGESHc",
        "colab": {
          "base_uri": "https://localhost:8080/",
          "height": 420
        },
        "outputId": "0fdbbd10-a01a-4117-8968-43a622da7304"
      },
      "source": [
        "plots.figure(figsize=(6, 6))\n",
        "plots.scatter(chars_periods_huck_finn.column(1), \n",
        "              chars_periods_huck_finn.column(0), \n",
        "              color='darkblue')\n",
        "plots.scatter(chars_periods_little_women.column(1), \n",
        "              chars_periods_little_women.column(0), \n",
        "              color='gold')\n",
        "plots.xlabel('Number of periods in chapter')\n",
        "plots.ylabel('Number of characters in chapter');"
      ],
      "execution_count": 11,
      "outputs": [
        {
          "output_type": "display_data",
          "data": {
            "image/png": "[encoded data removed]",
            "text/plain": [
              "<Figure size 432x432 with 1 Axes>"
            ]
          },
          "metadata": {
            "tags": []
          }
        }
      ]
    },
    {
      "cell_type": "markdown",
      "metadata": {
        "id": "AMGzO-WHEUry"
      },
      "source": [
        "The plot shows us that many but not all of the chapters of Little Women are longer than those of Huckleberry Finn, as we had observed by just looking at the numbers. But it also shows us something more. Notice how the blue points are roughly clustered around a straight line, as are the yellow points. Moreover, it looks as though both colors of points might be clustered around the same straight line.\n",
        "\n",
        "Now look at all the chapters that contain about 100 periods. The plot shows that those chapters contain about 10,000 characters to about 15,000 characters, roughly. That's about 100 to 150 characters per period.\n",
        "\n",
        "Indeed, it appears from looking at the plot that on average both books tend to have somewhere between 100 and 150 characters between periods, as a very rough estimate. Perhaps these two great 19th century novels were signaling something so very familiar to us now: the 140-character limit of Twitter."
      ]
    },
    {
      "cell_type": "markdown",
      "metadata": {
        "id": "aj6XKffv3qJU"
      },
      "source": [
        "# Programming in Python\n",
        "\n",
        "We now introduce some basics of programming in Python.  Be sure to run the code right below us in order to set up for the code we are about to use.\n",
        "\n"
      ]
    },
    {
      "cell_type": "code",
      "metadata": {
        "id": "jgbfUdm4MwpL"
      },
      "source": [
        "from datascience import *\n",
        "import numpy as np\n",
        "\n",
        "%matplotlib inline\n",
        "import matplotlib.pyplot as plots\n",
        "plots.style.use('fivethirtyeight')"
      ],
      "execution_count": 13,
      "outputs": []
    },
    {
      "cell_type": "markdown",
      "metadata": {
        "id": "KdOBM9CN37aJ"
      },
      "source": [
        "## Expressions and Names\n",
        "\n",
        "Programs are made up of expressions, which describe to the computer how to combine pieces of data. For example, a multiplication expression consists of a * symbol between two numerical expressions. Expressions, such as 3 * 4, are evaluated by the computer. The value (the result of evaluation) of the last expression in each cell, 12 in this case, is displayed below the cell."
      ]
    },
    {
      "cell_type": "code",
      "metadata": {
        "colab": {
          "base_uri": "https://localhost:8080/"
        },
        "id": "REt9gLo1NBls",
        "outputId": "a4f7454e-66d3-454d-da4b-4b98876a06b5"
      },
      "source": [
        "# basic arithmetic\n",
        "2 + 9"
      ],
      "execution_count": 15,
      "outputs": [
        {
          "output_type": "execute_result",
          "data": {
            "text/plain": [
              "1"
            ]
          },
          "metadata": {
            "tags": []
          },
          "execution_count": 15
        }
      ]
    },
    {
      "cell_type": "code",
      "metadata": {
        "colab": {
          "base_uri": "https://localhost:8080/"
        },
        "id": "UzgqguDfN1vq",
        "outputId": "2729f7b9-ac4c-41d3-9628-0e7fce9d2a3b"
      },
      "source": [
        "2 * 9"
      ],
      "execution_count": 17,
      "outputs": [
        {
          "output_type": "execute_result",
          "data": {
            "text/plain": [
              "18"
            ]
          },
          "metadata": {
            "tags": []
          },
          "execution_count": 17
        }
      ]
    },
    {
      "cell_type": "code",
      "metadata": {
        "colab": {
          "base_uri": "https://localhost:8080/"
        },
        "id": "TtyDM7JeN3mX",
        "outputId": "4ba22ca9-602a-47c6-d153-36266cd11cba"
      },
      "source": [
        "2 / 9\n"
      ],
      "execution_count": 16,
      "outputs": [
        {
          "output_type": "execute_result",
          "data": {
            "text/plain": [
              "0.2222222222222222"
            ]
          },
          "metadata": {
            "tags": []
          },
          "execution_count": 16
        }
      ]
    },
    {
      "cell_type": "code",
      "metadata": {
        "id": "cNlyfTeVN6gS"
      },
      "source": [
        "2 + 3 * 9\n"
      ],
      "execution_count": null,
      "outputs": []
    },
    {
      "cell_type": "code",
      "metadata": {
        "colab": {
          "base_uri": "https://localhost:8080/"
        },
        "id": "mF5LdQDiN79S",
        "outputId": "556626f2-f944-425f-aa2e-616db1ae139f"
      },
      "source": [
        "(2 + 3) * 9"
      ],
      "execution_count": 21,
      "outputs": [
        {
          "output_type": "execute_result",
          "data": {
            "text/plain": [
              "45"
            ]
          },
          "metadata": {
            "tags": []
          },
          "execution_count": 21
        }
      ]
    },
    {
      "cell_type": "code",
      "metadata": {
        "colab": {
          "base_uri": "https://localhost:8080/"
        },
        "id": "Hx__fH1ZOBqi",
        "outputId": "cffcb34f-2459-4146-ff2a-b70cb4a3f2c2"
      },
      "source": [
        "# 2 to the 4th (2^4)\n",
        "2 ** 4"
      ],
      "execution_count": 22,
      "outputs": [
        {
          "output_type": "execute_result",
          "data": {
            "text/plain": [
              "16"
            ]
          },
          "metadata": {
            "tags": []
          },
          "execution_count": 22
        }
      ]
    },
    {
      "cell_type": "code",
      "metadata": {
        "colab": {
          "base_uri": "https://localhost:8080/"
        },
        "id": "nnX6LSNJODHd",
        "outputId": "2f019d1c-428f-45d0-9e56-d8594cb4e842"
      },
      "source": [
        "# getting remainders\n",
        "7 % 3"
      ],
      "execution_count": 23,
      "outputs": [
        {
          "output_type": "execute_result",
          "data": {
            "text/plain": [
              "1"
            ]
          },
          "metadata": {
            "tags": []
          },
          "execution_count": 23
        }
      ]
    },
    {
      "cell_type": "code",
      "metadata": {
        "colab": {
          "base_uri": "https://localhost:8080/",
          "height": 35
        },
        "id": "bt6QX5xuOFXZ",
        "outputId": "b1e99889-f07b-4a5c-96f2-e96e12f0495a"
      },
      "source": [
        "'hello class'"
      ],
      "execution_count": 25,
      "outputs": [
        {
          "output_type": "execute_result",
          "data": {
            "application/vnd.google.colaboratory.intrinsic+json": {
              "type": "string"
            },
            "text/plain": [
              "'hello class'"
            ]
          },
          "metadata": {
            "tags": []
          },
          "execution_count": 25
        }
      ]
    },
    {
      "cell_type": "markdown",
      "metadata": {
        "id": "lfv-F7KlOWhR"
      },
      "source": [
        "Names are given to values in Python using an assignment statement. In an assignment, a name is followed by =, which is followed by any expression. The value of the expression to the right of = is assigned to the name. Once a name has a value assigned to it, the value will be substituted for that name in future expressions."
      ]
    },
    {
      "cell_type": "code",
      "metadata": {
        "colab": {
          "base_uri": "https://localhost:8080/"
        },
        "id": "19eMRkc-OVaD",
        "outputId": "e6bed67e-81fb-4c6b-ceed-e2f1724dcec1"
      },
      "source": [
        "a = 10\n",
        "b = 20\n",
        "a + b"
      ],
      "execution_count": 26,
      "outputs": [
        {
          "output_type": "execute_result",
          "data": {
            "text/plain": [
              "30"
            ]
          },
          "metadata": {
            "tags": []
          },
          "execution_count": 26
        }
      ]
    },
    {
      "cell_type": "markdown",
      "metadata": {
        "id": "K99mr3dmOgX-"
      },
      "source": [
        "A previously assigned name can be used in the expression to the right of =."
      ]
    },
    {
      "cell_type": "code",
      "metadata": {
        "id": "BlCtquv7Oecm"
      },
      "source": [
        "quarter = 1/4\n",
        "half = 2 * quarter\n",
        "half"
      ],
      "execution_count": null,
      "outputs": []
    },
    {
      "cell_type": "markdown",
      "metadata": {
        "id": "QQZyeKE6Oo_1"
      },
      "source": [
        "Names must start with a letter, but can contain both letters and numbers. A name cannot contain a space; instead, it is common to use an underscore character _ to replace each space. Names are only as useful as you make them; it's up to the programmer to choose names that are easy to interpret. Typically, more meaningful names can be invented than a and b. For example, to describe the sales tax on a $5 purchase in Berkeley, CA, the following names clarify the meaning of the various quantities involved."
      ]
    },
    {
      "cell_type": "code",
      "metadata": {
        "id": "h8GBBLTbOqmV"
      },
      "source": [
        "purchase_price = 5\n",
        "state_tax_rate = 0.075\n",
        "county_tax_rate = 0.02\n",
        "city_tax_rate = 0\n",
        "sales_tax_rate = state_tax_rate + county_tax_rate + city_tax_rate\n",
        "sales_tax = purchase_price * sales_tax_rate\n",
        "sales_tax"
      ],
      "execution_count": null,
      "outputs": []
    },
    {
      "cell_type": "markdown",
      "metadata": {
        "id": "fTCrplH7O5Nh"
      },
      "source": [
        "You can read the growth rates example in 3.2.1 of the textbook for a brief example demonstrating more expressions and names, but the two concepts are relatively straightforward.\n",
        "\n"
      ]
    },
    {
      "cell_type": "markdown",
      "metadata": {
        "id": "nCu93osa4CD8"
      },
      "source": [
        "## Call Expressions\n",
        "\n",
        "Call expressions invoke functions, which are named operations. The name of the function appears first, followed by expressions in parentheses."
      ]
    },
    {
      "cell_type": "code",
      "metadata": {
        "colab": {
          "base_uri": "https://localhost:8080/"
        },
        "id": "VMC2BF9_PP01",
        "outputId": "b57d7321-f8ac-4955-bc86-3134025c0325"
      },
      "source": [
        "abs(-12)"
      ],
      "execution_count": 27,
      "outputs": [
        {
          "output_type": "execute_result",
          "data": {
            "text/plain": [
              "12"
            ]
          },
          "metadata": {
            "tags": []
          },
          "execution_count": 27
        }
      ]
    },
    {
      "cell_type": "code",
      "metadata": {
        "colab": {
          "base_uri": "https://localhost:8080/"
        },
        "id": "T9z8Wh-dPTGB",
        "outputId": "e0997aa9-8658-467a-da8e-845b47743bad"
      },
      "source": [
        "round(5 - 1.3)"
      ],
      "execution_count": 28,
      "outputs": [
        {
          "output_type": "execute_result",
          "data": {
            "text/plain": [
              "4"
            ]
          },
          "metadata": {
            "tags": []
          },
          "execution_count": 28
        }
      ]
    },
    {
      "cell_type": "code",
      "metadata": {
        "colab": {
          "base_uri": "https://localhost:8080/"
        },
        "id": "MFbNGxvxPTJE",
        "outputId": "77af2937-e8f3-4dd6-f77e-f7df7d121a7c"
      },
      "source": [
        "max(2, 2 + 3, 4)"
      ],
      "execution_count": 29,
      "outputs": [
        {
          "output_type": "execute_result",
          "data": {
            "text/plain": [
              "5"
            ]
          },
          "metadata": {
            "tags": []
          },
          "execution_count": 29
        }
      ]
    },
    {
      "cell_type": "markdown",
      "metadata": {
        "id": "vHKauqnEV2Io"
      },
      "source": [
        "A few functions are available by default, such as abs and round, but most functions that are built into the Python language are stored in a collection of functions called a module. An import statement is used to provide access to a module, such as math or operator."
      ]
    },
    {
      "cell_type": "code",
      "metadata": {
        "colab": {
          "base_uri": "https://localhost:8080/"
        },
        "id": "lPWiLMj5WJu4",
        "outputId": "e46bd13c-23de-41fd-bab6-c99cccbcb9c4"
      },
      "source": [
        "import math\n",
        "import operator\n",
        "math.sqrt(operator.add(4, 5))"
      ],
      "execution_count": 30,
      "outputs": [
        {
          "output_type": "execute_result",
          "data": {
            "text/plain": [
              "3.0"
            ]
          },
          "metadata": {
            "tags": []
          },
          "execution_count": 30
        }
      ]
    },
    {
      "cell_type": "markdown",
      "metadata": {
        "id": "H7nDqsKbWEkj"
      },
      "source": [
        "An equivalent expression could be expressed using the + and ** operators instead."
      ]
    },
    {
      "cell_type": "code",
      "metadata": {
        "colab": {
          "base_uri": "https://localhost:8080/"
        },
        "id": "eWVvZaryWNEx",
        "outputId": "ff7fe9a9-5baa-4c6c-af56-81e2e2240b51"
      },
      "source": [
        "(4 + 5) ** 0.5"
      ],
      "execution_count": 31,
      "outputs": [
        {
          "output_type": "execute_result",
          "data": {
            "text/plain": [
              "3.0"
            ]
          },
          "metadata": {
            "tags": []
          },
          "execution_count": 31
        }
      ]
    },
    {
      "cell_type": "markdown",
      "metadata": {
        "id": "IZnc6ffpWXad"
      },
      "source": [
        "Operators and call expressions can be used together in an expression. For example, in 2014 Florida farms produced 2.72 billion eggs while Iowa farms produced 16.25 billion eggs (http://quickstats.nass.usda.gov/). The percent difference is 100 times the absolute value of the difference between the values, divided by their average. In this case, the difference is larger than the average, and so the percent difference is greater than 100."
      ]
    },
    {
      "cell_type": "code",
      "metadata": {
        "colab": {
          "base_uri": "https://localhost:8080/"
        },
        "id": "FpiGsYVoWb6B",
        "outputId": "20ad71bb-e9cb-42ae-c87a-ab2cfe1a89f7"
      },
      "source": [
        "florida = 2.72\n",
        "iowa = 16.25\n",
        "100*abs(florida-iowa)/((florida+iowa)/2)"
      ],
      "execution_count": 32,
      "outputs": [
        {
          "output_type": "execute_result",
          "data": {
            "text/plain": [
              "142.6462836056932"
            ]
          },
          "metadata": {
            "tags": []
          },
          "execution_count": 32
        }
      ]
    },
    {
      "cell_type": "markdown",
      "metadata": {
        "id": "OBxTFbBGWhUb"
      },
      "source": [
        "Learning how different functions behave is an important part of learning a programming language. A Jupyter notebook can assist in remembering the names and effects of different functions. When editing a code cell, press the tab key after typing the beginning of a name to bring up a list of ways to complete that name. For example, press tab after math. to see all of the functions available in the math module. Typing will narrow down the list of options. To learn more about a function, place a ? after its name. For example, typing math.log? will bring up a description of the log function in the math module."
      ]
    },
    {
      "cell_type": "code",
      "metadata": {
        "id": "dJaZs-FPWiQS"
      },
      "source": [
        "math.log?"
      ],
      "execution_count": 39,
      "outputs": []
    },
    {
      "cell_type": "markdown",
      "metadata": {
        "id": "FfPQCeX-YzXG"
      },
      "source": [
        "The square brackets in the example call indicate that an argument is optional. That is, log can be called with either one or two arguments."
      ]
    },
    {
      "cell_type": "markdown",
      "metadata": {
        "id": "L7CeFSP9XAF3"
      },
      "source": [
        "## Introduction to Tables\n",
        "\n",
        "We can now apply Python to analyze data. We will work with data stored in Table structures.\n",
        "\n",
        "Tables are a fundamental way of representing data sets. A table can be viewed in two ways:\n",
        "* a sequence of named columns that each describe a single attribute of all entries in a data set, or\n",
        "* a sequence of rows that each contain all information about a single individual in a data set.\n",
        "\n",
        "We will study tables in great detail in the next several chapters. For now, we will just introduce a few methods without going into technical details. \n",
        "\n",
        "The table `cones` has been imported for us; later we will see how, but here we will just work with it. First, let's take a look at it."
      ]
    },
    {
      "cell_type": "code",
      "metadata": {
        "collapsed": true,
        "tags": [
          "remove_input"
        ],
        "id": "h5lpkHnAXAFw"
      },
      "source": [
        "\n",
        "from datascience import *\n",
        "path_data = 'http://personal.psu.edu/drh20/200DS/'\n",
        "import numpy as np\n",
        "%matplotlib inline\n",
        "import matplotlib.pyplot as plots\n",
        "plots.style.use('fivethirtyeight')\n",
        "\n",
        "cones = Table.read_table(path_data + 'cones.csv')\n",
        "nba = Table.read_table(path_data + 'nba_salaries.csv').relabeled(3, 'SALARY')\n",
        "movies = Table.read_table(path_data + 'movies_by_year.csv')"
      ],
      "execution_count": 59,
      "outputs": []
    },
    {
      "cell_type": "code",
      "metadata": {
        "id": "wRcjE5BwXAF3",
        "colab": {
          "base_uri": "https://localhost:8080/",
          "height": 235
        },
        "outputId": "bbae3c4c-c189-42b3-dab3-8fdfa1333dbe"
      },
      "source": [
        "cones"
      ],
      "execution_count": 38,
      "outputs": [
        {
          "output_type": "execute_result",
          "data": {
            "text/html": [
              "<table border=\"1\" class=\"dataframe\">\n",
              "    <thead>\n",
              "        <tr>\n",
              "            <th>Flavor</th> <th>Color</th> <th>Price</th>\n",
              "        </tr>\n",
              "    </thead>\n",
              "    <tbody>\n",
              "        <tr>\n",
              "            <td>strawberry</td> <td>pink       </td> <td>3.55 </td>\n",
              "        </tr>\n",
              "        <tr>\n",
              "            <td>chocolate </td> <td>light brown</td> <td>4.75 </td>\n",
              "        </tr>\n",
              "        <tr>\n",
              "            <td>chocolate </td> <td>dark brown </td> <td>5.25 </td>\n",
              "        </tr>\n",
              "        <tr>\n",
              "            <td>strawberry</td> <td>pink       </td> <td>5.25 </td>\n",
              "        </tr>\n",
              "        <tr>\n",
              "            <td>chocolate </td> <td>dark brown </td> <td>5.25 </td>\n",
              "        </tr>\n",
              "        <tr>\n",
              "            <td>bubblegum </td> <td>pink       </td> <td>4.75 </td>\n",
              "        </tr>\n",
              "    </tbody>\n",
              "</table>"
            ],
            "text/plain": [
              "Flavor     | Color       | Price\n",
              "strawberry | pink        | 3.55\n",
              "chocolate  | light brown | 4.75\n",
              "chocolate  | dark brown  | 5.25\n",
              "strawberry | pink        | 5.25\n",
              "chocolate  | dark brown  | 5.25\n",
              "bubblegum  | pink        | 4.75"
            ]
          },
          "metadata": {
            "tags": []
          },
          "execution_count": 38
        }
      ]
    },
    {
      "cell_type": "markdown",
      "metadata": {
        "id": "krwDLvigXAF4"
      },
      "source": [
        "The table has six rows. Each row corresponds to one ice cream cone. The ice cream cones are the *individuals*.\n",
        "\n",
        "Each cone has three attributes: flavor, color, and price. Each column contains the data on one of these attributes, and so all the entries of any single column are of the same kind. Each column has a label. We will refer to columns by their labels.\n",
        "\n",
        "A table method is just like a function, but it must operate on a table. So the call looks like\n",
        "\n",
        "`name_of_table.method(arguments)`\n",
        "\n",
        "For example, if you want to see just the first two rows of a table, you can use the table method `show`."
      ]
    },
    {
      "cell_type": "code",
      "metadata": {
        "id": "XspSSXNbXAF5",
        "colab": {
          "base_uri": "https://localhost:8080/",
          "height": 140
        },
        "outputId": "4c259c96-2ce3-41ff-8e00-4ca9d5c7bcfb"
      },
      "source": [
        "cones.show(2)"
      ],
      "execution_count": 41,
      "outputs": [
        {
          "output_type": "display_data",
          "data": {
            "text/html": [
              "<table border=\"1\" class=\"dataframe\">\n",
              "    <thead>\n",
              "        <tr>\n",
              "            <th>Flavor</th> <th>Color</th> <th>Price</th>\n",
              "        </tr>\n",
              "    </thead>\n",
              "    <tbody>\n",
              "        <tr>\n",
              "            <td>strawberry</td> <td>pink       </td> <td>3.55 </td>\n",
              "        </tr>\n",
              "        <tr>\n",
              "            <td>chocolate </td> <td>light brown</td> <td>4.75 </td>\n",
              "        </tr>\n",
              "    </tbody>\n",
              "</table>\n",
              "<p>... (4 rows omitted)</p>"
            ],
            "text/plain": [
              "<IPython.core.display.HTML object>"
            ]
          },
          "metadata": {
            "tags": []
          }
        }
      ]
    },
    {
      "cell_type": "markdown",
      "metadata": {
        "id": "lIkvzvr4XAF5"
      },
      "source": [
        "You can replace 2 by any number of rows. If you ask for more than six, you will only get six, because `cones` only has six rows."
      ]
    },
    {
      "cell_type": "markdown",
      "metadata": {
        "id": "zdapEL38XAF5"
      },
      "source": [
        "### Choosing Sets of Columns ###\n",
        "The method `select` creates a new table consisting of only the specified columns."
      ]
    },
    {
      "cell_type": "code",
      "metadata": {
        "id": "mcAIrhq2XAF6",
        "outputId": "1b9fc3e1-8f44-49bc-e2e1-84bfd447ae5f"
      },
      "source": [
        "cones.select('Flavor')"
      ],
      "execution_count": null,
      "outputs": [
        {
          "output_type": "execute_result",
          "data": {
            "text/html": [
              "<table border=\"1\" class=\"dataframe\">\n",
              "    <thead>\n",
              "        <tr>\n",
              "            <th>Flavor</th>\n",
              "        </tr>\n",
              "    </thead>\n",
              "    <tbody>\n",
              "        <tr>\n",
              "            <td>strawberry</td>\n",
              "        </tr>\n",
              "        <tr>\n",
              "            <td>chocolate </td>\n",
              "        </tr>\n",
              "        <tr>\n",
              "            <td>chocolate </td>\n",
              "        </tr>\n",
              "        <tr>\n",
              "            <td>strawberry</td>\n",
              "        </tr>\n",
              "        <tr>\n",
              "            <td>chocolate </td>\n",
              "        </tr>\n",
              "        <tr>\n",
              "            <td>bubblegum </td>\n",
              "        </tr>\n",
              "    </tbody>\n",
              "</table>"
            ],
            "text/plain": [
              "Flavor\n",
              "strawberry\n",
              "chocolate\n",
              "chocolate\n",
              "strawberry\n",
              "chocolate\n",
              "bubblegum"
            ]
          },
          "metadata": {
            "tags": []
          },
          "execution_count": 4
        }
      ]
    },
    {
      "cell_type": "markdown",
      "metadata": {
        "id": "HWax7xglXAF6"
      },
      "source": [
        "This leaves the original table unchanged."
      ]
    },
    {
      "cell_type": "code",
      "metadata": {
        "id": "Y0KwdIrKXAF6",
        "colab": {
          "base_uri": "https://localhost:8080/",
          "height": 235
        },
        "outputId": "440d8521-01b5-4ea7-eb9e-4ebb3f548eb5"
      },
      "source": [
        "cones"
      ],
      "execution_count": 42,
      "outputs": [
        {
          "output_type": "execute_result",
          "data": {
            "text/html": [
              "<table border=\"1\" class=\"dataframe\">\n",
              "    <thead>\n",
              "        <tr>\n",
              "            <th>Flavor</th> <th>Color</th> <th>Price</th>\n",
              "        </tr>\n",
              "    </thead>\n",
              "    <tbody>\n",
              "        <tr>\n",
              "            <td>strawberry</td> <td>pink       </td> <td>3.55 </td>\n",
              "        </tr>\n",
              "        <tr>\n",
              "            <td>chocolate </td> <td>light brown</td> <td>4.75 </td>\n",
              "        </tr>\n",
              "        <tr>\n",
              "            <td>chocolate </td> <td>dark brown </td> <td>5.25 </td>\n",
              "        </tr>\n",
              "        <tr>\n",
              "            <td>strawberry</td> <td>pink       </td> <td>5.25 </td>\n",
              "        </tr>\n",
              "        <tr>\n",
              "            <td>chocolate </td> <td>dark brown </td> <td>5.25 </td>\n",
              "        </tr>\n",
              "        <tr>\n",
              "            <td>bubblegum </td> <td>pink       </td> <td>4.75 </td>\n",
              "        </tr>\n",
              "    </tbody>\n",
              "</table>"
            ],
            "text/plain": [
              "Flavor     | Color       | Price\n",
              "strawberry | pink        | 3.55\n",
              "chocolate  | light brown | 4.75\n",
              "chocolate  | dark brown  | 5.25\n",
              "strawberry | pink        | 5.25\n",
              "chocolate  | dark brown  | 5.25\n",
              "bubblegum  | pink        | 4.75"
            ]
          },
          "metadata": {
            "tags": []
          },
          "execution_count": 42
        }
      ]
    },
    {
      "cell_type": "markdown",
      "metadata": {
        "id": "lt8Os0fJXAF7"
      },
      "source": [
        "You can select more than one column, by separating the column labels by commas."
      ]
    },
    {
      "cell_type": "code",
      "metadata": {
        "id": "wbKgL-0GXAF7",
        "colab": {
          "base_uri": "https://localhost:8080/",
          "height": 235
        },
        "outputId": "57672c34-c567-4e07-ace2-a80a7ce9d4a5"
      },
      "source": [
        "cones.select('Flavor', 'Price')"
      ],
      "execution_count": 43,
      "outputs": [
        {
          "output_type": "execute_result",
          "data": {
            "text/html": [
              "<table border=\"1\" class=\"dataframe\">\n",
              "    <thead>\n",
              "        <tr>\n",
              "            <th>Flavor</th> <th>Price</th>\n",
              "        </tr>\n",
              "    </thead>\n",
              "    <tbody>\n",
              "        <tr>\n",
              "            <td>strawberry</td> <td>3.55 </td>\n",
              "        </tr>\n",
              "        <tr>\n",
              "            <td>chocolate </td> <td>4.75 </td>\n",
              "        </tr>\n",
              "        <tr>\n",
              "            <td>chocolate </td> <td>5.25 </td>\n",
              "        </tr>\n",
              "        <tr>\n",
              "            <td>strawberry</td> <td>5.25 </td>\n",
              "        </tr>\n",
              "        <tr>\n",
              "            <td>chocolate </td> <td>5.25 </td>\n",
              "        </tr>\n",
              "        <tr>\n",
              "            <td>bubblegum </td> <td>4.75 </td>\n",
              "        </tr>\n",
              "    </tbody>\n",
              "</table>"
            ],
            "text/plain": [
              "Flavor     | Price\n",
              "strawberry | 3.55\n",
              "chocolate  | 4.75\n",
              "chocolate  | 5.25\n",
              "strawberry | 5.25\n",
              "chocolate  | 5.25\n",
              "bubblegum  | 4.75"
            ]
          },
          "metadata": {
            "tags": []
          },
          "execution_count": 43
        }
      ]
    },
    {
      "cell_type": "markdown",
      "metadata": {
        "id": "2hgY6QJ8XAF7"
      },
      "source": [
        "You can also *drop* columns you don't want. The table above can be created by dropping the `Color` column."
      ]
    },
    {
      "cell_type": "code",
      "metadata": {
        "id": "AQHH4aEqXAF7",
        "colab": {
          "base_uri": "https://localhost:8080/",
          "height": 235
        },
        "outputId": "6e1b021c-758e-442e-be81-b7684d72bc0f"
      },
      "source": [
        "cones.drop('Color')"
      ],
      "execution_count": 44,
      "outputs": [
        {
          "output_type": "execute_result",
          "data": {
            "text/html": [
              "<table border=\"1\" class=\"dataframe\">\n",
              "    <thead>\n",
              "        <tr>\n",
              "            <th>Flavor</th> <th>Price</th>\n",
              "        </tr>\n",
              "    </thead>\n",
              "    <tbody>\n",
              "        <tr>\n",
              "            <td>strawberry</td> <td>3.55 </td>\n",
              "        </tr>\n",
              "        <tr>\n",
              "            <td>chocolate </td> <td>4.75 </td>\n",
              "        </tr>\n",
              "        <tr>\n",
              "            <td>chocolate </td> <td>5.25 </td>\n",
              "        </tr>\n",
              "        <tr>\n",
              "            <td>strawberry</td> <td>5.25 </td>\n",
              "        </tr>\n",
              "        <tr>\n",
              "            <td>chocolate </td> <td>5.25 </td>\n",
              "        </tr>\n",
              "        <tr>\n",
              "            <td>bubblegum </td> <td>4.75 </td>\n",
              "        </tr>\n",
              "    </tbody>\n",
              "</table>"
            ],
            "text/plain": [
              "Flavor     | Price\n",
              "strawberry | 3.55\n",
              "chocolate  | 4.75\n",
              "chocolate  | 5.25\n",
              "strawberry | 5.25\n",
              "chocolate  | 5.25\n",
              "bubblegum  | 4.75"
            ]
          },
          "metadata": {
            "tags": []
          },
          "execution_count": 44
        }
      ]
    },
    {
      "cell_type": "markdown",
      "metadata": {
        "id": "nNNoTEU4XAF8"
      },
      "source": [
        "You can name this new table and look at it again by just typing its name."
      ]
    },
    {
      "cell_type": "code",
      "metadata": {
        "id": "HtzPc0SaXAF8",
        "colab": {
          "base_uri": "https://localhost:8080/",
          "height": 235
        },
        "outputId": "fd81f88d-bbb8-4e35-bd3b-8f5719cadaaf"
      },
      "source": [
        "no_colors = cones.drop('Color')\n",
        "\n",
        "no_colors"
      ],
      "execution_count": 45,
      "outputs": [
        {
          "output_type": "execute_result",
          "data": {
            "text/html": [
              "<table border=\"1\" class=\"dataframe\">\n",
              "    <thead>\n",
              "        <tr>\n",
              "            <th>Flavor</th> <th>Price</th>\n",
              "        </tr>\n",
              "    </thead>\n",
              "    <tbody>\n",
              "        <tr>\n",
              "            <td>strawberry</td> <td>3.55 </td>\n",
              "        </tr>\n",
              "        <tr>\n",
              "            <td>chocolate </td> <td>4.75 </td>\n",
              "        </tr>\n",
              "        <tr>\n",
              "            <td>chocolate </td> <td>5.25 </td>\n",
              "        </tr>\n",
              "        <tr>\n",
              "            <td>strawberry</td> <td>5.25 </td>\n",
              "        </tr>\n",
              "        <tr>\n",
              "            <td>chocolate </td> <td>5.25 </td>\n",
              "        </tr>\n",
              "        <tr>\n",
              "            <td>bubblegum </td> <td>4.75 </td>\n",
              "        </tr>\n",
              "    </tbody>\n",
              "</table>"
            ],
            "text/plain": [
              "Flavor     | Price\n",
              "strawberry | 3.55\n",
              "chocolate  | 4.75\n",
              "chocolate  | 5.25\n",
              "strawberry | 5.25\n",
              "chocolate  | 5.25\n",
              "bubblegum  | 4.75"
            ]
          },
          "metadata": {
            "tags": []
          },
          "execution_count": 45
        }
      ]
    },
    {
      "cell_type": "markdown",
      "metadata": {
        "id": "f5eqynxiXAF8"
      },
      "source": [
        "Like `select`, the `drop` method creates a smaller table and leaves the original table unchanged. In order to explore your data, you can create any number of smaller tables by using choosing or dropping columns. It will do no harm to your original data table."
      ]
    },
    {
      "cell_type": "markdown",
      "metadata": {
        "id": "kjr96zqtXAF8"
      },
      "source": [
        "### Sorting Rows ###"
      ]
    },
    {
      "cell_type": "markdown",
      "metadata": {
        "id": "QuR7iux8XAF9"
      },
      "source": [
        "The `sort` method creates a new table by arranging the rows of the original table in ascending order of the values in the specified column. Here the `cones` table has been sorted in ascending order of the price of the cones."
      ]
    },
    {
      "cell_type": "code",
      "metadata": {
        "id": "O1ylyb-MXAF9",
        "colab": {
          "base_uri": "https://localhost:8080/",
          "height": 235
        },
        "outputId": "42a327d3-3b2e-4c03-8fa3-29b8d469d8f4"
      },
      "source": [
        "cones.sort('Price')"
      ],
      "execution_count": 47,
      "outputs": [
        {
          "output_type": "execute_result",
          "data": {
            "text/html": [
              "<table border=\"1\" class=\"dataframe\">\n",
              "    <thead>\n",
              "        <tr>\n",
              "            <th>Flavor</th> <th>Color</th> <th>Price</th>\n",
              "        </tr>\n",
              "    </thead>\n",
              "    <tbody>\n",
              "        <tr>\n",
              "            <td>strawberry</td> <td>pink       </td> <td>3.55 </td>\n",
              "        </tr>\n",
              "        <tr>\n",
              "            <td>chocolate </td> <td>light brown</td> <td>4.75 </td>\n",
              "        </tr>\n",
              "        <tr>\n",
              "            <td>bubblegum </td> <td>pink       </td> <td>4.75 </td>\n",
              "        </tr>\n",
              "        <tr>\n",
              "            <td>chocolate </td> <td>dark brown </td> <td>5.25 </td>\n",
              "        </tr>\n",
              "        <tr>\n",
              "            <td>strawberry</td> <td>pink       </td> <td>5.25 </td>\n",
              "        </tr>\n",
              "        <tr>\n",
              "            <td>chocolate </td> <td>dark brown </td> <td>5.25 </td>\n",
              "        </tr>\n",
              "    </tbody>\n",
              "</table>"
            ],
            "text/plain": [
              "Flavor     | Color       | Price\n",
              "strawberry | pink        | 3.55\n",
              "chocolate  | light brown | 4.75\n",
              "bubblegum  | pink        | 4.75\n",
              "chocolate  | dark brown  | 5.25\n",
              "strawberry | pink        | 5.25\n",
              "chocolate  | dark brown  | 5.25"
            ]
          },
          "metadata": {
            "tags": []
          },
          "execution_count": 47
        }
      ]
    },
    {
      "cell_type": "markdown",
      "metadata": {
        "id": "4_4QjqkQXAF9"
      },
      "source": [
        "To sort in descending order, you can use an *optional* argument to `sort`. As the name implies, optional arguments don't have to be used, but they can be used if you want to change the default behavior of a method. \n",
        "\n",
        "By default, `sort` sorts in increasing order of the values in the specified column. To sort in decreasing order, use the optional argument `descending=True`."
      ]
    },
    {
      "cell_type": "code",
      "metadata": {
        "id": "T194G6GiXAF9",
        "colab": {
          "base_uri": "https://localhost:8080/",
          "height": 235
        },
        "outputId": "75b31539-5c91-4f8a-f531-1fdcb9ba231c"
      },
      "source": [
        "cones.sort('Price', descending=True)"
      ],
      "execution_count": 48,
      "outputs": [
        {
          "output_type": "execute_result",
          "data": {
            "text/html": [
              "<table border=\"1\" class=\"dataframe\">\n",
              "    <thead>\n",
              "        <tr>\n",
              "            <th>Flavor</th> <th>Color</th> <th>Price</th>\n",
              "        </tr>\n",
              "    </thead>\n",
              "    <tbody>\n",
              "        <tr>\n",
              "            <td>chocolate </td> <td>dark brown </td> <td>5.25 </td>\n",
              "        </tr>\n",
              "        <tr>\n",
              "            <td>strawberry</td> <td>pink       </td> <td>5.25 </td>\n",
              "        </tr>\n",
              "        <tr>\n",
              "            <td>chocolate </td> <td>dark brown </td> <td>5.25 </td>\n",
              "        </tr>\n",
              "        <tr>\n",
              "            <td>bubblegum </td> <td>pink       </td> <td>4.75 </td>\n",
              "        </tr>\n",
              "        <tr>\n",
              "            <td>chocolate </td> <td>light brown</td> <td>4.75 </td>\n",
              "        </tr>\n",
              "        <tr>\n",
              "            <td>strawberry</td> <td>pink       </td> <td>3.55 </td>\n",
              "        </tr>\n",
              "    </tbody>\n",
              "</table>"
            ],
            "text/plain": [
              "Flavor     | Color       | Price\n",
              "chocolate  | dark brown  | 5.25\n",
              "strawberry | pink        | 5.25\n",
              "chocolate  | dark brown  | 5.25\n",
              "bubblegum  | pink        | 4.75\n",
              "chocolate  | light brown | 4.75\n",
              "strawberry | pink        | 3.55"
            ]
          },
          "metadata": {
            "tags": []
          },
          "execution_count": 48
        }
      ]
    },
    {
      "cell_type": "markdown",
      "metadata": {
        "id": "R0hNiQ7KXAF-"
      },
      "source": [
        "Like `select` and `drop`, the `sort` method leaves the original table unchanged."
      ]
    },
    {
      "cell_type": "markdown",
      "metadata": {
        "id": "OK5thZN2XAF-"
      },
      "source": [
        "### Selecting Rows that Satisfy a Condition ###\n",
        "The `where` method creates a new table consisting only of the rows that satisfy a given condition. In this section we will work with a very simple condition, which is that the value in a specified column must be equal to a value that we also specify. Thus the `where` method has two arguments.\n",
        "\n",
        "The code in the cell below creates a table consisting only of the rows corresponding to chocolate cones."
      ]
    },
    {
      "cell_type": "code",
      "metadata": {
        "id": "RjfjpNXGXAF-",
        "colab": {
          "base_uri": "https://localhost:8080/",
          "height": 142
        },
        "outputId": "091dd3b4-f6cc-44a5-c563-c4e09fd0ce84"
      },
      "source": [
        "cones.where('Flavor', 'chocolate')"
      ],
      "execution_count": 49,
      "outputs": [
        {
          "output_type": "execute_result",
          "data": {
            "text/html": [
              "<table border=\"1\" class=\"dataframe\">\n",
              "    <thead>\n",
              "        <tr>\n",
              "            <th>Flavor</th> <th>Color</th> <th>Price</th>\n",
              "        </tr>\n",
              "    </thead>\n",
              "    <tbody>\n",
              "        <tr>\n",
              "            <td>chocolate</td> <td>light brown</td> <td>4.75 </td>\n",
              "        </tr>\n",
              "        <tr>\n",
              "            <td>chocolate</td> <td>dark brown </td> <td>5.25 </td>\n",
              "        </tr>\n",
              "        <tr>\n",
              "            <td>chocolate</td> <td>dark brown </td> <td>5.25 </td>\n",
              "        </tr>\n",
              "    </tbody>\n",
              "</table>"
            ],
            "text/plain": [
              "Flavor    | Color       | Price\n",
              "chocolate | light brown | 4.75\n",
              "chocolate | dark brown  | 5.25\n",
              "chocolate | dark brown  | 5.25"
            ]
          },
          "metadata": {
            "tags": []
          },
          "execution_count": 49
        }
      ]
    },
    {
      "cell_type": "markdown",
      "metadata": {
        "id": "y_LwBNt5XAF-"
      },
      "source": [
        "The arguments, separated by a comma, are the label of the column and the value we are looking for in that column. The `where` method can also be used when the condition that the rows must satisfy is more complicated. In those situations the call will be a little more complicated as well.\n",
        "\n",
        "It is important to provide the value exactly. For example, if we specify `Chocolate` instead of `chocolate`, then `where` correctly finds no rows where the flavor is `Chocolate`."
      ]
    },
    {
      "cell_type": "code",
      "metadata": {
        "id": "d6Wlf3KxXAF-",
        "colab": {
          "base_uri": "https://localhost:8080/",
          "height": 49
        },
        "outputId": "6a205f96-d72b-49ad-82cc-37e05db6a857"
      },
      "source": [
        "cones.where('Flavor', 'Chocolate')"
      ],
      "execution_count": 50,
      "outputs": [
        {
          "output_type": "execute_result",
          "data": {
            "text/html": [
              "<table border=\"1\" class=\"dataframe\">\n",
              "    <thead>\n",
              "        <tr>\n",
              "            <th>Flavor</th> <th>Color</th> <th>Price</th>\n",
              "        </tr>\n",
              "    </thead>\n",
              "    <tbody>\n",
              "    </tbody>\n",
              "</table>"
            ],
            "text/plain": [
              "Flavor | Color | Price"
            ]
          },
          "metadata": {
            "tags": []
          },
          "execution_count": 50
        }
      ]
    },
    {
      "cell_type": "markdown",
      "metadata": {
        "id": "KyAdGTjsXAF_"
      },
      "source": [
        "Like all the other table methods in this section, `where` leaves the original table unchanged."
      ]
    },
    {
      "cell_type": "markdown",
      "metadata": {
        "id": "uIY0zYcLXAF_"
      },
      "source": [
        "### Example: Salaries in the NBA ###"
      ]
    },
    {
      "cell_type": "markdown",
      "metadata": {
        "id": "bz5w_8SRXAF_"
      },
      "source": [
        "\"The NBA is the highest paying professional sports league in the world,\" [reported CNN](http://edition.cnn.com/2015/12/04/sport/gallery/highest-paid-nba-players/) in March 2016. The table `nba` contains the [salaries of all National Basketball Association players](https://www.statcrunch.com/app/index.php?dataid=1843341) in 2015-2016.\n",
        "\n",
        "Each row represents one player. The columns are:\n",
        "\n",
        "| **Column Label**   | Description                                         |\n",
        "|--------------------|-----------------------------------------------------|\n",
        "| `PLAYER`           | Player's name                                       |\n",
        "| `POSITION`         | Player's position on team                           |\n",
        "| `TEAM`             | Team name                                           |\n",
        "|`SALARY`    | Player's salary in 2015-2016, in millions of dollars|\n",
        " \n",
        "The code for the positions is PG (Point Guard), SG (Shooting Guard), PF (Power Forward), SF (Small Forward), and C (Center). But what follows doesn't involve details about how basketball is played.\n",
        "\n",
        "The first row shows that Paul Millsap, Power Forward for the Atlanta Hawks, had a salary of almost $\\$18.7$ million in 2015-2016."
      ]
    },
    {
      "cell_type": "code",
      "metadata": {
        "id": "5jBR0lBvXAF_",
        "colab": {
          "base_uri": "https://localhost:8080/",
          "height": 388
        },
        "outputId": "5ab04dde-7086-4b28-e270-b781ccf6cc17"
      },
      "source": [
        "nba"
      ],
      "execution_count": 51,
      "outputs": [
        {
          "output_type": "execute_result",
          "data": {
            "text/html": [
              "<table border=\"1\" class=\"dataframe\">\n",
              "    <thead>\n",
              "        <tr>\n",
              "            <th>PLAYER</th> <th>POSITION</th> <th>TEAM</th> <th>SALARY</th>\n",
              "        </tr>\n",
              "    </thead>\n",
              "    <tbody>\n",
              "        <tr>\n",
              "            <td>Paul Millsap    </td> <td>PF      </td> <td>Atlanta Hawks</td> <td>18.6717</td>\n",
              "        </tr>\n",
              "        <tr>\n",
              "            <td>Al Horford      </td> <td>C       </td> <td>Atlanta Hawks</td> <td>12     </td>\n",
              "        </tr>\n",
              "        <tr>\n",
              "            <td>Tiago Splitter  </td> <td>C       </td> <td>Atlanta Hawks</td> <td>9.75625</td>\n",
              "        </tr>\n",
              "        <tr>\n",
              "            <td>Jeff Teague     </td> <td>PG      </td> <td>Atlanta Hawks</td> <td>8      </td>\n",
              "        </tr>\n",
              "        <tr>\n",
              "            <td>Kyle Korver     </td> <td>SG      </td> <td>Atlanta Hawks</td> <td>5.74648</td>\n",
              "        </tr>\n",
              "        <tr>\n",
              "            <td>Thabo Sefolosha </td> <td>SF      </td> <td>Atlanta Hawks</td> <td>4      </td>\n",
              "        </tr>\n",
              "        <tr>\n",
              "            <td>Mike Scott      </td> <td>PF      </td> <td>Atlanta Hawks</td> <td>3.33333</td>\n",
              "        </tr>\n",
              "        <tr>\n",
              "            <td>Kent Bazemore   </td> <td>SF      </td> <td>Atlanta Hawks</td> <td>2      </td>\n",
              "        </tr>\n",
              "        <tr>\n",
              "            <td>Dennis Schroder </td> <td>PG      </td> <td>Atlanta Hawks</td> <td>1.7634 </td>\n",
              "        </tr>\n",
              "        <tr>\n",
              "            <td>Tim Hardaway Jr.</td> <td>SG      </td> <td>Atlanta Hawks</td> <td>1.30452</td>\n",
              "        </tr>\n",
              "    </tbody>\n",
              "</table>\n",
              "<p>... (407 rows omitted)</p>"
            ],
            "text/plain": [
              "PLAYER           | POSITION | TEAM          | SALARY\n",
              "Paul Millsap     | PF       | Atlanta Hawks | 18.6717\n",
              "Al Horford       | C        | Atlanta Hawks | 12\n",
              "Tiago Splitter   | C        | Atlanta Hawks | 9.75625\n",
              "Jeff Teague      | PG       | Atlanta Hawks | 8\n",
              "Kyle Korver      | SG       | Atlanta Hawks | 5.74648\n",
              "Thabo Sefolosha  | SF       | Atlanta Hawks | 4\n",
              "Mike Scott       | PF       | Atlanta Hawks | 3.33333\n",
              "Kent Bazemore    | SF       | Atlanta Hawks | 2\n",
              "Dennis Schroder  | PG       | Atlanta Hawks | 1.7634\n",
              "Tim Hardaway Jr. | SG       | Atlanta Hawks | 1.30452\n",
              "... (407 rows omitted)"
            ]
          },
          "metadata": {
            "tags": []
          },
          "execution_count": 51
        }
      ]
    },
    {
      "cell_type": "markdown",
      "metadata": {
        "id": "IvmtALDhXAF_"
      },
      "source": [
        "Fans of Stephen Curry can find his row by using `where`."
      ]
    },
    {
      "cell_type": "code",
      "metadata": {
        "id": "t_hK9S1zXAGA",
        "colab": {
          "base_uri": "https://localhost:8080/",
          "height": 80
        },
        "outputId": "75b9cf30-dc34-4a4e-b156-da30621f2f7e"
      },
      "source": [
        "nba.where('PLAYER', 'Stephen Curry')"
      ],
      "execution_count": 52,
      "outputs": [
        {
          "output_type": "execute_result",
          "data": {
            "text/html": [
              "<table border=\"1\" class=\"dataframe\">\n",
              "    <thead>\n",
              "        <tr>\n",
              "            <th>PLAYER</th> <th>POSITION</th> <th>TEAM</th> <th>SALARY</th>\n",
              "        </tr>\n",
              "    </thead>\n",
              "    <tbody>\n",
              "        <tr>\n",
              "            <td>Stephen Curry</td> <td>PG      </td> <td>Golden State Warriors</td> <td>11.3708</td>\n",
              "        </tr>\n",
              "    </tbody>\n",
              "</table>"
            ],
            "text/plain": [
              "PLAYER        | POSITION | TEAM                  | SALARY\n",
              "Stephen Curry | PG       | Golden State Warriors | 11.3708"
            ]
          },
          "metadata": {
            "tags": []
          },
          "execution_count": 52
        }
      ]
    },
    {
      "cell_type": "markdown",
      "metadata": {
        "id": "Gb5PtHB2XAGA"
      },
      "source": [
        "We can also create a new table called `warriors` consisting of just the data for the Golden State Warriors."
      ]
    },
    {
      "cell_type": "code",
      "metadata": {
        "id": "XyFTwtBfXAGA",
        "colab": {
          "base_uri": "https://localhost:8080/",
          "height": 388
        },
        "outputId": "0339f277-6c48-46d2-b35d-ab56ce47692f"
      },
      "source": [
        "warriors = nba.where('TEAM', 'Golden State Warriors')\n",
        "warriors"
      ],
      "execution_count": 57,
      "outputs": [
        {
          "output_type": "execute_result",
          "data": {
            "text/html": [
              "<table border=\"1\" class=\"dataframe\">\n",
              "    <thead>\n",
              "        <tr>\n",
              "            <th>PLAYER</th> <th>POSITION</th> <th>TEAM</th> <th>SALARY</th>\n",
              "        </tr>\n",
              "    </thead>\n",
              "    <tbody>\n",
              "        <tr>\n",
              "            <td>Khris Middleton        </td> <td>SG      </td> <td>Milwaukee Bucks</td> <td>14.7   </td>\n",
              "        </tr>\n",
              "        <tr>\n",
              "            <td>O.J. Mayo              </td> <td>SG      </td> <td>Milwaukee Bucks</td> <td>8      </td>\n",
              "        </tr>\n",
              "        <tr>\n",
              "            <td>Greivis Vasquez        </td> <td>PG      </td> <td>Milwaukee Bucks</td> <td>6.6    </td>\n",
              "        </tr>\n",
              "        <tr>\n",
              "            <td>Jabari Parker          </td> <td>PF      </td> <td>Milwaukee Bucks</td> <td>5.15244</td>\n",
              "        </tr>\n",
              "        <tr>\n",
              "            <td>Jerryd Bayless         </td> <td>PG      </td> <td>Milwaukee Bucks</td> <td>3      </td>\n",
              "        </tr>\n",
              "        <tr>\n",
              "            <td>John Henson            </td> <td>PF      </td> <td>Milwaukee Bucks</td> <td>2.94322</td>\n",
              "        </tr>\n",
              "        <tr>\n",
              "            <td>Michael Carter-Williams</td> <td>PG      </td> <td>Milwaukee Bucks</td> <td>2.39904</td>\n",
              "        </tr>\n",
              "        <tr>\n",
              "            <td>Miles Plumlee          </td> <td>C       </td> <td>Milwaukee Bucks</td> <td>2.10929</td>\n",
              "        </tr>\n",
              "        <tr>\n",
              "            <td>Giannis Antetokounmpo  </td> <td>SF      </td> <td>Milwaukee Bucks</td> <td>1.95396</td>\n",
              "        </tr>\n",
              "        <tr>\n",
              "            <td>Rashad Vaughn          </td> <td>SG      </td> <td>Milwaukee Bucks</td> <td>1.73304</td>\n",
              "        </tr>\n",
              "    </tbody>\n",
              "</table>\n",
              "<p>... (3 rows omitted)</p>"
            ],
            "text/plain": [
              "PLAYER                  | POSITION | TEAM            | SALARY\n",
              "Khris Middleton         | SG       | Milwaukee Bucks | 14.7\n",
              "O.J. Mayo               | SG       | Milwaukee Bucks | 8\n",
              "Greivis Vasquez         | PG       | Milwaukee Bucks | 6.6\n",
              "Jabari Parker           | PF       | Milwaukee Bucks | 5.15244\n",
              "Jerryd Bayless          | PG       | Milwaukee Bucks | 3\n",
              "John Henson             | PF       | Milwaukee Bucks | 2.94322\n",
              "Michael Carter-Williams | PG       | Milwaukee Bucks | 2.39904\n",
              "Miles Plumlee           | C        | Milwaukee Bucks | 2.10929\n",
              "Giannis Antetokounmpo   | SF       | Milwaukee Bucks | 1.95396\n",
              "Rashad Vaughn           | SG       | Milwaukee Bucks | 1.73304\n",
              "... (3 rows omitted)"
            ]
          },
          "metadata": {
            "tags": []
          },
          "execution_count": 57
        }
      ]
    },
    {
      "cell_type": "markdown",
      "metadata": {
        "id": "gcrDBun-XAGA"
      },
      "source": [
        "By default, the first 10 lines of a table are displayed. You can use `show` to display more or fewer. To display the entire table, use `show` with no argument in the parentheses."
      ]
    },
    {
      "cell_type": "code",
      "metadata": {
        "id": "p49zk6dfXAGA",
        "colab": {
          "base_uri": "https://localhost:8080/",
          "height": 483
        },
        "outputId": "d46e3eea-8b12-434a-e235-d41664bcce5c"
      },
      "source": [
        "warriors.show()"
      ],
      "execution_count": 54,
      "outputs": [
        {
          "output_type": "display_data",
          "data": {
            "text/html": [
              "<table border=\"1\" class=\"dataframe\">\n",
              "    <thead>\n",
              "        <tr>\n",
              "            <th>PLAYER</th> <th>POSITION</th> <th>TEAM</th> <th>SALARY</th>\n",
              "        </tr>\n",
              "    </thead>\n",
              "    <tbody>\n",
              "        <tr>\n",
              "            <td>Klay Thompson    </td> <td>SG      </td> <td>Golden State Warriors</td> <td>15.501  </td>\n",
              "        </tr>\n",
              "        <tr>\n",
              "            <td>Draymond Green   </td> <td>PF      </td> <td>Golden State Warriors</td> <td>14.2609 </td>\n",
              "        </tr>\n",
              "        <tr>\n",
              "            <td>Andrew Bogut     </td> <td>C       </td> <td>Golden State Warriors</td> <td>13.8    </td>\n",
              "        </tr>\n",
              "        <tr>\n",
              "            <td>Andre Iguodala   </td> <td>SF      </td> <td>Golden State Warriors</td> <td>11.7105 </td>\n",
              "        </tr>\n",
              "        <tr>\n",
              "            <td>Stephen Curry    </td> <td>PG      </td> <td>Golden State Warriors</td> <td>11.3708 </td>\n",
              "        </tr>\n",
              "        <tr>\n",
              "            <td>Jason Thompson   </td> <td>PF      </td> <td>Golden State Warriors</td> <td>7.00847 </td>\n",
              "        </tr>\n",
              "        <tr>\n",
              "            <td>Shaun Livingston </td> <td>PG      </td> <td>Golden State Warriors</td> <td>5.54373 </td>\n",
              "        </tr>\n",
              "        <tr>\n",
              "            <td>Harrison Barnes  </td> <td>SF      </td> <td>Golden State Warriors</td> <td>3.8734  </td>\n",
              "        </tr>\n",
              "        <tr>\n",
              "            <td>Marreese Speights</td> <td>C       </td> <td>Golden State Warriors</td> <td>3.815   </td>\n",
              "        </tr>\n",
              "        <tr>\n",
              "            <td>Leandro Barbosa  </td> <td>SG      </td> <td>Golden State Warriors</td> <td>2.5     </td>\n",
              "        </tr>\n",
              "        <tr>\n",
              "            <td>Festus Ezeli     </td> <td>C       </td> <td>Golden State Warriors</td> <td>2.00875 </td>\n",
              "        </tr>\n",
              "        <tr>\n",
              "            <td>Brandon Rush     </td> <td>SF      </td> <td>Golden State Warriors</td> <td>1.27096 </td>\n",
              "        </tr>\n",
              "        <tr>\n",
              "            <td>Kevon Looney     </td> <td>SF      </td> <td>Golden State Warriors</td> <td>1.13196 </td>\n",
              "        </tr>\n",
              "        <tr>\n",
              "            <td>Anderson Varejao </td> <td>PF      </td> <td>Golden State Warriors</td> <td>0.289755</td>\n",
              "        </tr>\n",
              "    </tbody>\n",
              "</table>"
            ],
            "text/plain": [
              "<IPython.core.display.HTML object>"
            ]
          },
          "metadata": {
            "tags": []
          }
        }
      ]
    },
    {
      "cell_type": "markdown",
      "metadata": {
        "id": "X4DnZO5rXAGB"
      },
      "source": [
        "The `nba` table is sorted in alphabetical order of the team names. To see how the players were paid in 2015-2016, it is useful to sort the data by salary. Remember that by default, the sorting is in increasing order."
      ]
    },
    {
      "cell_type": "code",
      "metadata": {
        "id": "m9yhkpbvXAGB",
        "colab": {
          "base_uri": "https://localhost:8080/",
          "height": 388
        },
        "outputId": "26e98e40-2442-45bd-bc26-c391ab7ae028"
      },
      "source": [
        "nba.sort('SALARY')"
      ],
      "execution_count": 55,
      "outputs": [
        {
          "output_type": "execute_result",
          "data": {
            "text/html": [
              "<table border=\"1\" class=\"dataframe\">\n",
              "    <thead>\n",
              "        <tr>\n",
              "            <th>PLAYER</th> <th>POSITION</th> <th>TEAM</th> <th>SALARY</th>\n",
              "        </tr>\n",
              "    </thead>\n",
              "    <tbody>\n",
              "        <tr>\n",
              "            <td>Thanasis Antetokounmpo</td> <td>SF      </td> <td>New York Knicks     </td> <td>0.030888</td>\n",
              "        </tr>\n",
              "        <tr>\n",
              "            <td>Jordan McRae          </td> <td>SG      </td> <td>Phoenix Suns        </td> <td>0.049709</td>\n",
              "        </tr>\n",
              "        <tr>\n",
              "            <td>Cory Jefferson        </td> <td>PF      </td> <td>Phoenix Suns        </td> <td>0.049709</td>\n",
              "        </tr>\n",
              "        <tr>\n",
              "            <td>Elliot Williams       </td> <td>SG      </td> <td>Memphis Grizzlies   </td> <td>0.055722</td>\n",
              "        </tr>\n",
              "        <tr>\n",
              "            <td>Orlando Johnson       </td> <td>SG      </td> <td>Phoenix Suns        </td> <td>0.055722</td>\n",
              "        </tr>\n",
              "        <tr>\n",
              "            <td>Phil Pressey          </td> <td>PG      </td> <td>Phoenix Suns        </td> <td>0.055722</td>\n",
              "        </tr>\n",
              "        <tr>\n",
              "            <td>Keith Appling         </td> <td>PG      </td> <td>Orlando Magic       </td> <td>0.061776</td>\n",
              "        </tr>\n",
              "        <tr>\n",
              "            <td>Sean Kilpatrick       </td> <td>SG      </td> <td>Denver Nuggets      </td> <td>0.099418</td>\n",
              "        </tr>\n",
              "        <tr>\n",
              "            <td>Erick Green           </td> <td>PG      </td> <td>Utah Jazz           </td> <td>0.099418</td>\n",
              "        </tr>\n",
              "        <tr>\n",
              "            <td>Jeff Ayres            </td> <td>PF      </td> <td>Los Angeles Clippers</td> <td>0.111444</td>\n",
              "        </tr>\n",
              "    </tbody>\n",
              "</table>\n",
              "<p>... (407 rows omitted)</p>"
            ],
            "text/plain": [
              "PLAYER                 | POSITION | TEAM                 | SALARY\n",
              "Thanasis Antetokounmpo | SF       | New York Knicks      | 0.030888\n",
              "Jordan McRae           | SG       | Phoenix Suns         | 0.049709\n",
              "Cory Jefferson         | PF       | Phoenix Suns         | 0.049709\n",
              "Elliot Williams        | SG       | Memphis Grizzlies    | 0.055722\n",
              "Orlando Johnson        | SG       | Phoenix Suns         | 0.055722\n",
              "Phil Pressey           | PG       | Phoenix Suns         | 0.055722\n",
              "Keith Appling          | PG       | Orlando Magic        | 0.061776\n",
              "Sean Kilpatrick        | SG       | Denver Nuggets       | 0.099418\n",
              "Erick Green            | PG       | Utah Jazz            | 0.099418\n",
              "Jeff Ayres             | PF       | Los Angeles Clippers | 0.111444\n",
              "... (407 rows omitted)"
            ]
          },
          "metadata": {
            "tags": []
          },
          "execution_count": 55
        }
      ]
    },
    {
      "cell_type": "markdown",
      "metadata": {
        "id": "ey6e2BTnXAGB"
      },
      "source": [
        "These figures are somewhat difficult to compare as some of these players changed teams during the season and received salaries from more than one team; only the salary from the last team appears in the table.  \n",
        "\n",
        "The CNN report is about the other end of the salary scale – the players who are among the highest paid in the world. To identify these players we can sort in descending order of salary and look at the top few rows."
      ]
    },
    {
      "cell_type": "code",
      "metadata": {
        "id": "F9_UG834XAGB",
        "colab": {
          "base_uri": "https://localhost:8080/",
          "height": 388
        },
        "outputId": "f9197442-01d2-497f-e104-bd07f9cdfb7c"
      },
      "source": [
        "nba.sort('SALARY', descending=True)"
      ],
      "execution_count": 56,
      "outputs": [
        {
          "output_type": "execute_result",
          "data": {
            "text/html": [
              "<table border=\"1\" class=\"dataframe\">\n",
              "    <thead>\n",
              "        <tr>\n",
              "            <th>PLAYER</th> <th>POSITION</th> <th>TEAM</th> <th>SALARY</th>\n",
              "        </tr>\n",
              "    </thead>\n",
              "    <tbody>\n",
              "        <tr>\n",
              "            <td>Kobe Bryant    </td> <td>SF      </td> <td>Los Angeles Lakers   </td> <td>25     </td>\n",
              "        </tr>\n",
              "        <tr>\n",
              "            <td>Joe Johnson    </td> <td>SF      </td> <td>Brooklyn Nets        </td> <td>24.8949</td>\n",
              "        </tr>\n",
              "        <tr>\n",
              "            <td>LeBron James   </td> <td>SF      </td> <td>Cleveland Cavaliers  </td> <td>22.9705</td>\n",
              "        </tr>\n",
              "        <tr>\n",
              "            <td>Carmelo Anthony</td> <td>SF      </td> <td>New York Knicks      </td> <td>22.875 </td>\n",
              "        </tr>\n",
              "        <tr>\n",
              "            <td>Dwight Howard  </td> <td>C       </td> <td>Houston Rockets      </td> <td>22.3594</td>\n",
              "        </tr>\n",
              "        <tr>\n",
              "            <td>Chris Bosh     </td> <td>PF      </td> <td>Miami Heat           </td> <td>22.1927</td>\n",
              "        </tr>\n",
              "        <tr>\n",
              "            <td>Chris Paul     </td> <td>PG      </td> <td>Los Angeles Clippers </td> <td>21.4687</td>\n",
              "        </tr>\n",
              "        <tr>\n",
              "            <td>Kevin Durant   </td> <td>SF      </td> <td>Oklahoma City Thunder</td> <td>20.1586</td>\n",
              "        </tr>\n",
              "        <tr>\n",
              "            <td>Derrick Rose   </td> <td>PG      </td> <td>Chicago Bulls        </td> <td>20.0931</td>\n",
              "        </tr>\n",
              "        <tr>\n",
              "            <td>Dwyane Wade    </td> <td>SG      </td> <td>Miami Heat           </td> <td>20     </td>\n",
              "        </tr>\n",
              "    </tbody>\n",
              "</table>\n",
              "<p>... (407 rows omitted)</p>"
            ],
            "text/plain": [
              "PLAYER          | POSITION | TEAM                  | SALARY\n",
              "Kobe Bryant     | SF       | Los Angeles Lakers    | 25\n",
              "Joe Johnson     | SF       | Brooklyn Nets         | 24.8949\n",
              "LeBron James    | SF       | Cleveland Cavaliers   | 22.9705\n",
              "Carmelo Anthony | SF       | New York Knicks       | 22.875\n",
              "Dwight Howard   | C        | Houston Rockets       | 22.3594\n",
              "Chris Bosh      | PF       | Miami Heat            | 22.1927\n",
              "Chris Paul      | PG       | Los Angeles Clippers  | 21.4687\n",
              "Kevin Durant    | SF       | Oklahoma City Thunder | 20.1586\n",
              "Derrick Rose    | PG       | Chicago Bulls         | 20.0931\n",
              "Dwyane Wade     | SG       | Miami Heat            | 20\n",
              "... (407 rows omitted)"
            ]
          },
          "metadata": {
            "tags": []
          },
          "execution_count": 56
        }
      ]
    },
    {
      "cell_type": "markdown",
      "metadata": {
        "id": "tHcYA-CrXAGB"
      },
      "source": [
        "Kobe Bryant, since retired, was the highest earning NBA player in 2015-2016."
      ]
    },
    {
      "cell_type": "markdown",
      "metadata": {
        "id": "1pMssCdX9VeP"
      },
      "source": [
        "# Data Types\n",
        "\n",
        "Every value has a type, and the built-in `type` function returns the type of the result of any expression."
      ]
    },
    {
      "cell_type": "markdown",
      "metadata": {
        "id": "HwSsMGYz9VeU"
      },
      "source": [
        "One type we have encountered already is a built-in function. Python indicates that the type is a `builtin_function_or_method`; the distinction between a *function* and a *method* is not important at this stage."
      ]
    },
    {
      "cell_type": "code",
      "metadata": {
        "id": "ZIXe4jdX9VeU",
        "outputId": "f0df70c5-a623-4646-e4ab-fdc1a799060f"
      },
      "source": [
        "type(abs)"
      ],
      "execution_count": null,
      "outputs": [
        {
          "output_type": "execute_result",
          "data": {
            "text/plain": [
              "builtin_function_or_method"
            ]
          },
          "metadata": {
            "tags": []
          },
          "execution_count": 1
        }
      ]
    },
    {
      "cell_type": "markdown",
      "metadata": {
        "id": "vU4pVWQ39VeV"
      },
      "source": [
        "This chapter will explore many useful types of data."
      ]
    },
    {
      "cell_type": "markdown",
      "metadata": {
        "id": "h7L1Tk809JyO"
      },
      "source": [
        "## Numbers\n",
        "\n",
        "Computers are designed to perform numerical calculations, but there are some important details about working with numbers that every programmer working with quantitative data should know. Python (and most other programming languages) distinguishes between two different types of numbers:\n",
        "\n",
        "* Integers are called `int` values in the Python language. They can only represent whole numbers (negative, zero, or positive) that don't have a fractional component\n",
        "* Real numbers are called `float` values (or *floating point values*) in the Python language. They can represent whole or fractional numbers but have some limitations.\n",
        "\n",
        "The type of a number is evident from the way it is displayed: `int` values have no decimal point and `float` values always have a decimal point. "
      ]
    },
    {
      "cell_type": "code",
      "metadata": {
        "id": "c9EpsGrU9JyT",
        "outputId": "8166dcd0-063b-4bab-d93c-eb8d44735e85"
      },
      "source": [
        "# Some int values\n",
        "2"
      ],
      "execution_count": null,
      "outputs": [
        {
          "output_type": "execute_result",
          "data": {
            "text/plain": [
              "2"
            ]
          },
          "metadata": {
            "tags": []
          },
          "execution_count": 1
        }
      ]
    },
    {
      "cell_type": "code",
      "metadata": {
        "id": "AywqHckG9JyU",
        "outputId": "13fb8f14-9d7f-425c-df00-5aae81eff141"
      },
      "source": [
        "1 + 3"
      ],
      "execution_count": null,
      "outputs": [
        {
          "output_type": "execute_result",
          "data": {
            "text/plain": [
              "4"
            ]
          },
          "metadata": {
            "tags": []
          },
          "execution_count": 2
        }
      ]
    },
    {
      "cell_type": "code",
      "metadata": {
        "id": "ha2Uu9H_9JyV",
        "outputId": "7ae667d4-3874-4bc9-f655-7c79196905e0"
      },
      "source": [
        "-1234567890000000000"
      ],
      "execution_count": null,
      "outputs": [
        {
          "output_type": "execute_result",
          "data": {
            "text/plain": [
              "-1234567890000000000"
            ]
          },
          "metadata": {
            "tags": []
          },
          "execution_count": 3
        }
      ]
    },
    {
      "cell_type": "code",
      "metadata": {
        "id": "1viF3F_C9JyV",
        "outputId": "526fed70-386d-4e0b-94b3-362aec6c2bf5"
      },
      "source": [
        "# Some float values\n",
        "1.2"
      ],
      "execution_count": null,
      "outputs": [
        {
          "output_type": "execute_result",
          "data": {
            "text/plain": [
              "1.2"
            ]
          },
          "metadata": {
            "tags": []
          },
          "execution_count": 4
        }
      ]
    },
    {
      "cell_type": "code",
      "metadata": {
        "id": "6KNva8So9JyV",
        "outputId": "5d2728ec-d227-49b2-b4c7-36aff0475775"
      },
      "source": [
        "3.0"
      ],
      "execution_count": null,
      "outputs": [
        {
          "output_type": "execute_result",
          "data": {
            "text/plain": [
              "3.0"
            ]
          },
          "metadata": {
            "tags": []
          },
          "execution_count": 5
        }
      ]
    },
    {
      "cell_type": "markdown",
      "metadata": {
        "id": "M7zvMIbs9JyV"
      },
      "source": [
        "When a `float` value is combined with an `int` value using some arithmetic operator, then the result is always a `float` value. In most cases, two integers combine to form another integer, but any number (`int` or `float`) divided by another will be a `float` value. Very large or very small `float` values are displayed using scientific notation."
      ]
    },
    {
      "cell_type": "code",
      "metadata": {
        "id": "-6iVUELR9JyW",
        "outputId": "d452b365-4641-4cf9-ad4b-1ddf67b8e807"
      },
      "source": [
        "1.5 + 2"
      ],
      "execution_count": null,
      "outputs": [
        {
          "output_type": "execute_result",
          "data": {
            "text/plain": [
              "3.5"
            ]
          },
          "metadata": {
            "tags": []
          },
          "execution_count": 6
        }
      ]
    },
    {
      "cell_type": "code",
      "metadata": {
        "id": "a10swaBc9JyW",
        "outputId": "1dc91418-c659-4da1-e2d6-1eae05632065"
      },
      "source": [
        "3 / 1"
      ],
      "execution_count": null,
      "outputs": [
        {
          "output_type": "execute_result",
          "data": {
            "text/plain": [
              "3.0"
            ]
          },
          "metadata": {
            "tags": []
          },
          "execution_count": 7
        }
      ]
    },
    {
      "cell_type": "code",
      "metadata": {
        "id": "60Nr0-r-9JyW",
        "outputId": "15d3a98d-5757-45d2-b4f8-ecd24dffe566"
      },
      "source": [
        "-12345678900000000000.0"
      ],
      "execution_count": null,
      "outputs": [
        {
          "output_type": "execute_result",
          "data": {
            "text/plain": [
              "-1.23456789e+19"
            ]
          },
          "metadata": {
            "tags": []
          },
          "execution_count": 8
        }
      ]
    },
    {
      "cell_type": "markdown",
      "metadata": {
        "id": "sDvMakWL9JyX"
      },
      "source": [
        "The `type` function can be used to find the type of any number."
      ]
    },
    {
      "cell_type": "code",
      "metadata": {
        "id": "wPJrbEQv9JyX",
        "outputId": "b699452e-4773-4e33-8def-374c0e375930"
      },
      "source": [
        "type(3)"
      ],
      "execution_count": null,
      "outputs": [
        {
          "output_type": "execute_result",
          "data": {
            "text/plain": [
              "int"
            ]
          },
          "metadata": {
            "tags": []
          },
          "execution_count": 9
        }
      ]
    },
    {
      "cell_type": "code",
      "metadata": {
        "id": "UDqV8NDd9JyX",
        "outputId": "7c97a169-3429-42e9-b8ad-e751bd97e044"
      },
      "source": [
        "type(3 / 1)"
      ],
      "execution_count": null,
      "outputs": [
        {
          "output_type": "execute_result",
          "data": {
            "text/plain": [
              "float"
            ]
          },
          "metadata": {
            "tags": []
          },
          "execution_count": 10
        }
      ]
    },
    {
      "cell_type": "markdown",
      "metadata": {
        "id": "QLz2lr5b9JyX"
      },
      "source": [
        "The `type` of an expression is the type of its final value. So, the `type` function will never indicate that the type of an expression is a name, because names are always evaluated to their assigned values."
      ]
    },
    {
      "cell_type": "code",
      "metadata": {
        "id": "i6LLd5kE9JyY",
        "outputId": "6e6a46cb-7e3c-4fd7-84b2-25958e84ed9e"
      },
      "source": [
        "x = 3\n",
        "type(x) # The type of x is an int, not a name"
      ],
      "execution_count": null,
      "outputs": [
        {
          "output_type": "execute_result",
          "data": {
            "text/plain": [
              "int"
            ]
          },
          "metadata": {
            "tags": []
          },
          "execution_count": 11
        }
      ]
    },
    {
      "cell_type": "code",
      "metadata": {
        "id": "TTSBPXU69JyY",
        "outputId": "b9c76ddf-daa1-4646-8653-cf34e25ca5d4"
      },
      "source": [
        "type(x + 2.5)"
      ],
      "execution_count": null,
      "outputs": [
        {
          "output_type": "execute_result",
          "data": {
            "text/plain": [
              "float"
            ]
          },
          "metadata": {
            "tags": []
          },
          "execution_count": 12
        }
      ]
    },
    {
      "cell_type": "markdown",
      "metadata": {
        "id": "g_Bo9N3_9JyY"
      },
      "source": [
        "### More About Float Values\n",
        "\n",
        "Float values are very flexible, but they do have limits. \n",
        "\n",
        "1. A `float` can represent extremely large and extremely small numbers. There are limits, but you will rarely encounter them.\n",
        "2. A `float` only represents 15 or 16 significant digits for any number; the remaining precision is lost. This limited precision is enough for the vast majority of applications.\n",
        "3. After combining `float` values with arithmetic, the last few digits may be incorrect. Small rounding errors are often confusing when first encountered.\n",
        "\n",
        "The first limit can be observed in two ways. If the result of a computation is a very large number, then it is represented as infinite. If the result is a very small number, then it is represented as zero."
      ]
    },
    {
      "cell_type": "code",
      "metadata": {
        "id": "si5KHPAX9JyY",
        "outputId": "a8c572d7-7e0a-4d29-bc0b-6b0bf02d83ea"
      },
      "source": [
        "2e306 * 10"
      ],
      "execution_count": null,
      "outputs": [
        {
          "output_type": "execute_result",
          "data": {
            "text/plain": [
              "2e+307"
            ]
          },
          "metadata": {
            "tags": []
          },
          "execution_count": 13
        }
      ]
    },
    {
      "cell_type": "code",
      "metadata": {
        "id": "RVTXMti49JyY",
        "outputId": "6443a1a8-ee74-4082-d408-9018505e4b94"
      },
      "source": [
        "2e306 * 100"
      ],
      "execution_count": null,
      "outputs": [
        {
          "output_type": "execute_result",
          "data": {
            "text/plain": [
              "inf"
            ]
          },
          "metadata": {
            "tags": []
          },
          "execution_count": 14
        }
      ]
    },
    {
      "cell_type": "code",
      "metadata": {
        "id": "GAnLfb8h9JyZ",
        "outputId": "47cb5f40-8a85-415e-887b-6666cf8c449e"
      },
      "source": [
        "2e-322 / 10"
      ],
      "execution_count": null,
      "outputs": [
        {
          "output_type": "execute_result",
          "data": {
            "text/plain": [
              "2e-323"
            ]
          },
          "metadata": {
            "tags": []
          },
          "execution_count": 15
        }
      ]
    },
    {
      "cell_type": "code",
      "metadata": {
        "id": "2j82CppR9JyZ",
        "outputId": "6ade2cf5-11e1-4bb1-d35e-6eebdaf145b9"
      },
      "source": [
        "2e-322 / 100"
      ],
      "execution_count": null,
      "outputs": [
        {
          "output_type": "execute_result",
          "data": {
            "text/plain": [
              "0.0"
            ]
          },
          "metadata": {
            "tags": []
          },
          "execution_count": 16
        }
      ]
    },
    {
      "cell_type": "markdown",
      "metadata": {
        "id": "2A5WgRC09JyZ"
      },
      "source": [
        "The second limit can be observed by an expression that involves numbers with more than 15 significant digits. These extra digits are discarded before any arithmetic is carried out."
      ]
    },
    {
      "cell_type": "code",
      "metadata": {
        "id": "tRGhfKE49JyZ",
        "outputId": "f8cd9605-788c-4635-e215-9ac848fc623c"
      },
      "source": [
        "0.6666666666666666 - 0.6666666666666666123456789"
      ],
      "execution_count": null,
      "outputs": [
        {
          "output_type": "execute_result",
          "data": {
            "text/plain": [
              "0.0"
            ]
          },
          "metadata": {
            "tags": []
          },
          "execution_count": 17
        }
      ]
    },
    {
      "cell_type": "markdown",
      "metadata": {
        "id": "QqUBhzp89JyZ"
      },
      "source": [
        "The third limit can be observed when taking the difference between two expressions that should be equivalent. For example, the expression `2 ** 0.5` computes the square root of 2, but squaring this value does not exactly recover 2."
      ]
    },
    {
      "cell_type": "code",
      "metadata": {
        "id": "XWtzDcJn9Jya",
        "outputId": "12fe97ab-a296-498b-bc3b-db63c6f956ce"
      },
      "source": [
        "2 ** 0.5"
      ],
      "execution_count": null,
      "outputs": [
        {
          "output_type": "execute_result",
          "data": {
            "text/plain": [
              "1.4142135623730951"
            ]
          },
          "metadata": {
            "tags": []
          },
          "execution_count": 18
        }
      ]
    },
    {
      "cell_type": "code",
      "metadata": {
        "id": "MNmF34je9Jya",
        "outputId": "eb811cd5-7dcd-4a7f-86cd-c2e03a55ef51"
      },
      "source": [
        "(2 ** 0.5) * (2 ** 0.5)"
      ],
      "execution_count": null,
      "outputs": [
        {
          "output_type": "execute_result",
          "data": {
            "text/plain": [
              "2.0000000000000004"
            ]
          },
          "metadata": {
            "tags": []
          },
          "execution_count": 19
        }
      ]
    },
    {
      "cell_type": "code",
      "metadata": {
        "id": "JCkdi1HP9Jya",
        "outputId": "1b12e66d-08b2-4da2-9ada-dc7b4c6a5e0d"
      },
      "source": [
        "(2 ** 0.5) * (2 ** 0.5) - 2"
      ],
      "execution_count": null,
      "outputs": [
        {
          "output_type": "execute_result",
          "data": {
            "text/plain": [
              "4.440892098500626e-16"
            ]
          },
          "metadata": {
            "tags": []
          },
          "execution_count": 20
        }
      ]
    },
    {
      "cell_type": "markdown",
      "metadata": {
        "id": "Js2eGA2R9Jya"
      },
      "source": [
        "The final result above is `0.0000000000000004440892098500626`, a number that is very close to zero. The correct answer to this arithmetic expression is 0, but a small error in the final significant digit appears very different in scientific notation. This behavior appears in almost all programming languages because it is the result of the standard way that arithmetic is carried out on computers. \n",
        "\n",
        "Although `float` values are not always exact, they are certainly reliable and work the same way across all different kinds of computers and programming languages. "
      ]
    },
    {
      "cell_type": "markdown",
      "metadata": {
        "id": "wVzVWWP59uhU"
      },
      "source": [
        "## Strings\n",
        "\n",
        "Much of the world's data is text, and a piece of text represented in a computer is called a *string*. A string can represent a word, a sentence, or even the contents of every book in a library. Since text can include numbers (like this: 5) or truth values (True), a string can also describe those things.\n",
        "\n",
        "The meaning of an expression depends both upon its structure and the types of values that are being combined. So, for instance, adding two strings together produces another string. This expression is still an addition expression, but it is combining a different type of value."
      ]
    },
    {
      "cell_type": "code",
      "metadata": {
        "id": "kA0UqhDh9uhZ",
        "outputId": "fe4d7a04-0cbd-4b1c-e8c3-d53738217af5"
      },
      "source": [
        "\"data\" + \"science\""
      ],
      "execution_count": null,
      "outputs": [
        {
          "output_type": "execute_result",
          "data": {
            "text/plain": [
              "'datascience'"
            ]
          },
          "metadata": {
            "tags": []
          },
          "execution_count": 1
        }
      ]
    },
    {
      "cell_type": "markdown",
      "metadata": {
        "id": "KWE2G2F19uha"
      },
      "source": [
        "Addition is completely literal; it combines these two strings together without regard for their contents. It doesn't add a space because these are different words; that's up to the programmer (you) to specify."
      ]
    },
    {
      "cell_type": "code",
      "metadata": {
        "id": "UbBqZXdj9uha",
        "outputId": "8662870e-127c-4eb5-e419-b602a8247914"
      },
      "source": [
        "\"data\" + \" \" + \"science\""
      ],
      "execution_count": null,
      "outputs": [
        {
          "output_type": "execute_result",
          "data": {
            "text/plain": [
              "'data science'"
            ]
          },
          "metadata": {
            "tags": []
          },
          "execution_count": 2
        }
      ]
    },
    {
      "cell_type": "markdown",
      "metadata": {
        "id": "67Y1czIq9uha"
      },
      "source": [
        "Single and double quotes can both be used to create strings: `'hi'` and `\"hi\"` are identical expressions. Double quotes are often preferred because they allow you to include apostrophes inside of strings."
      ]
    },
    {
      "cell_type": "code",
      "metadata": {
        "id": "8RW07amB9uhb",
        "outputId": "216d4d88-af1b-413e-cf04-3d26d765a981"
      },
      "source": [
        "\"This won't work with a single-quoted string!\""
      ],
      "execution_count": null,
      "outputs": [
        {
          "output_type": "execute_result",
          "data": {
            "text/plain": [
              "\"This won't work with a single-quoted string!\""
            ]
          },
          "metadata": {
            "tags": []
          },
          "execution_count": 3
        }
      ]
    },
    {
      "cell_type": "markdown",
      "metadata": {
        "id": "uKLyONoJ9uhb"
      },
      "source": [
        "Why not? Try it out."
      ]
    },
    {
      "cell_type": "markdown",
      "metadata": {
        "id": "kbYcoNHN9uhb"
      },
      "source": [
        "The `str` function returns a string representation of any value. Using this function, strings can be constructed that have embedded values."
      ]
    },
    {
      "cell_type": "code",
      "metadata": {
        "id": "hspvK2r99uhb",
        "outputId": "f53e5b0c-d21a-4d36-d553-453bd93aed4f"
      },
      "source": [
        "\"That's \" + str(1 + 1) + ' ' + str(True)"
      ],
      "execution_count": null,
      "outputs": [
        {
          "output_type": "execute_result",
          "data": {
            "text/plain": [
              "\"That's 2 True\""
            ]
          },
          "metadata": {
            "tags": []
          },
          "execution_count": 4
        }
      ]
    },
    {
      "cell_type": "markdown",
      "metadata": {
        "id": "lVkFhlum-ad7"
      },
      "source": [
        "### String Methods\n",
        "\n",
        "From an existing string, related strings can be constructed using string methods, which are functions that operate on strings. These methods are called by placing a dot after the string, then calling the function.\n",
        "\n",
        "For example, the following method generates an uppercased version of a string."
      ]
    },
    {
      "cell_type": "code",
      "metadata": {
        "id": "Uc_2vAHG-aeA",
        "outputId": "f83b38ed-fdd8-4f9f-aff9-92f68f27d762"
      },
      "source": [
        "\"loud\".upper()"
      ],
      "execution_count": null,
      "outputs": [
        {
          "output_type": "execute_result",
          "data": {
            "text/plain": [
              "'LOUD'"
            ]
          },
          "metadata": {
            "tags": []
          },
          "execution_count": 1
        }
      ]
    },
    {
      "cell_type": "markdown",
      "metadata": {
        "id": "lGpJtXJ_-aeB"
      },
      "source": [
        "Perhaps the most important method is `replace`, which replaces all instances of a substring within the string. The `replace` method takes two arguments, the text to be replaced and its replacement."
      ]
    },
    {
      "cell_type": "code",
      "metadata": {
        "id": "bDk-tHuq-aeB",
        "outputId": "7e96f598-a317-4b7e-e32c-547ddb56b383"
      },
      "source": [
        "'hitchhiker'.replace('hi', 'ma')"
      ],
      "execution_count": null,
      "outputs": [
        {
          "output_type": "execute_result",
          "data": {
            "text/plain": [
              "'matchmaker'"
            ]
          },
          "metadata": {
            "tags": []
          },
          "execution_count": 2
        }
      ]
    },
    {
      "cell_type": "markdown",
      "metadata": {
        "id": "LFdfcBCT-aeC"
      },
      "source": [
        "String methods can also be invoked using variable names, as long as those names are bound to strings. So, for instance, the following two-step process generates the word \"degrade\" starting from \"train\" by first creating \"ingrain\" and then applying a second replacement."
      ]
    },
    {
      "cell_type": "code",
      "metadata": {
        "id": "jon5cs_P-aeC",
        "outputId": "b338fc50-abfc-4f3b-862b-499a78abeae3"
      },
      "source": [
        "s = \"train\"\n",
        "t = s.replace('t', 'ing')\n",
        "u = t.replace('in', 'de')\n",
        "u"
      ],
      "execution_count": null,
      "outputs": [
        {
          "output_type": "execute_result",
          "data": {
            "text/plain": [
              "'degrade'"
            ]
          },
          "metadata": {
            "tags": []
          },
          "execution_count": 3
        }
      ]
    },
    {
      "cell_type": "markdown",
      "metadata": {
        "id": "CL56bzK--aeC"
      },
      "source": [
        "Note that the line `t = s.replace('t', 'ing')` doesn't change the string `s`, which is still \"train\".  The method call `s.replace('t', 'ing')` just has a value, which is the string \"ingrain\"."
      ]
    },
    {
      "cell_type": "code",
      "metadata": {
        "id": "cPwg6JOq-aeC",
        "outputId": "9bf44162-d9a0-4725-9e6a-52b3cbee04d7"
      },
      "source": [
        "s"
      ],
      "execution_count": null,
      "outputs": [
        {
          "output_type": "execute_result",
          "data": {
            "text/plain": [
              "'train'"
            ]
          },
          "metadata": {
            "tags": []
          },
          "execution_count": 4
        }
      ]
    },
    {
      "cell_type": "markdown",
      "metadata": {
        "id": "rrgdd7qr-aeD"
      },
      "source": [
        "This is the first time we've seen methods, but methods are not unique to strings.  As we will see shortly, other types of objects can have them."
      ]
    },
    {
      "cell_type": "markdown",
      "metadata": {
        "id": "hA7GIT0w-oK4"
      },
      "source": [
        "## Comparisons\n",
        "\n",
        "Boolean values most often arise from comparison operators. Python includes a variety of operators that compare values. For example, `3` is larger than `1 + 1`."
      ]
    },
    {
      "cell_type": "code",
      "metadata": {
        "id": "CbobDQeu-oK9",
        "outputId": "e239a280-5631-4616-9ef6-d474bd5e8d09"
      },
      "source": [
        "3 > 1 + 1"
      ],
      "execution_count": null,
      "outputs": [
        {
          "output_type": "execute_result",
          "data": {
            "text/plain": [
              "True"
            ]
          },
          "metadata": {
            "tags": []
          },
          "execution_count": 1
        }
      ]
    },
    {
      "cell_type": "markdown",
      "metadata": {
        "id": "IgdBXt0Z-oK-"
      },
      "source": [
        "The value `True` indicates that the comparison is valid; Python has confirmed this simple fact about the relationship between `3` and `1+1`. The full set of common comparison operators are listed below.\n",
        "\n",
        "| Comparison         | Operator | True example | False Example |\n",
        "|--------------------|----------|--------------|---------------|\n",
        "| Less than          | <        | 2 < 3        | 2 < 2         |\n",
        "| Greater than       | >        | 3>2          | 3>3           |\n",
        "| Less than or equal | <=       | 2 <= 2       | 3 <= 2        |\n",
        "| Greater or equal   | >=       | 3 >= 3       | 2 >= 3        |\n",
        "| Equal              | ==       | 3 == 3       | 3 == 2        |\n",
        "| Not equal          | !=       | 3 != 2       | 2 != 2        |"
      ]
    },
    {
      "cell_type": "markdown",
      "metadata": {
        "id": "VJzjiCJ2-oK-"
      },
      "source": [
        "An expression can contain multiple comparisons, and they all must hold in order for the whole expression to be `True`. For example, we can express that `1+1` is between `1` and `3` using the following expression."
      ]
    },
    {
      "cell_type": "code",
      "metadata": {
        "id": "s6_vKafX-oK_",
        "outputId": "482da32a-f1fe-4be7-d469-91d1b63170c1"
      },
      "source": [
        "1 < 1 + 1 < 3"
      ],
      "execution_count": null,
      "outputs": [
        {
          "output_type": "execute_result",
          "data": {
            "text/plain": [
              "True"
            ]
          },
          "metadata": {
            "tags": []
          },
          "execution_count": 2
        }
      ]
    },
    {
      "cell_type": "markdown",
      "metadata": {
        "id": "Ry3dhNt9-oK_"
      },
      "source": [
        "The average of two numbers is always between the smaller number and the larger number. We express this relationship for the numbers `x` and `y` below. You can try different values of `x` and `y` to confirm this relationship."
      ]
    },
    {
      "cell_type": "code",
      "metadata": {
        "id": "zryDDB23-oK_",
        "outputId": "20766aeb-7e9b-4931-e893-ebcbdac33668"
      },
      "source": [
        "x = 12\n",
        "y = 5\n",
        "min(x, y) <= (x+y)/2 <= max(x, y)"
      ],
      "execution_count": null,
      "outputs": [
        {
          "output_type": "execute_result",
          "data": {
            "text/plain": [
              "True"
            ]
          },
          "metadata": {
            "tags": []
          },
          "execution_count": 3
        }
      ]
    },
    {
      "cell_type": "markdown",
      "metadata": {
        "id": "y3fqgP3n-oK_"
      },
      "source": [
        "Strings can also be compared, and their order is alphabetical. A shorter string is less than a longer string that begins with the shorter string."
      ]
    },
    {
      "cell_type": "code",
      "metadata": {
        "id": "JJvAGZ0A-oLA",
        "outputId": "c686c6a5-2a11-4ed3-be17-d1d88a009724"
      },
      "source": [
        "\"Dog\" > \"Catastrophe\" > \"Cat\""
      ],
      "execution_count": null,
      "outputs": [
        {
          "output_type": "execute_result",
          "data": {
            "text/plain": [
              "True"
            ]
          },
          "metadata": {
            "tags": []
          },
          "execution_count": 4
        }
      ]
    }
  ]
}