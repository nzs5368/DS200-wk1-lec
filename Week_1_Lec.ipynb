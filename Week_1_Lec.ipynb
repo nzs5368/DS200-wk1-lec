{
  "nbformat": 4,
  "nbformat_minor": 0,
  "metadata": {
    "colab": {
      "name": "Week_1_Lec.ipynb",
      "provenance": [],
      "toc_visible": true,
      "authorship_tag": "ABX9TyPDWZV3FgAP1EuIk+jPShTV",
      "include_colab_link": true
    },
    "kernelspec": {
      "name": "python3",
      "display_name": "Python 3"
    }
  },
  "cells": [
    {
      "cell_type": "markdown",
      "metadata": {
        "id": "view-in-github",
        "colab_type": "text"
      },
      "source": [
        "<a href=\"https://colab.research.google.com/github/nzs5368/DS200-wk1-lec/blob/main/Week_1_Lec.ipynb\" target=\"_parent\"><img src=\"https://colab.research.google.com/assets/colab-badge.svg\" alt=\"Open In Colab\"/></a>"
      ]
    },
    {
      "cell_type": "markdown",
      "metadata": {
        "id": "zaexptN_ZVov"
      },
      "source": [
        "# What is Data Science\n",
        "\n"
      ]
    },
    {
      "cell_type": "markdown",
      "metadata": {
        "id": "uaFCUf1vbArd"
      },
      "source": [
        ""
      ]
    },
    {
      "cell_type": "markdown",
      "metadata": {
        "id": "5gsqNKK3azFG"
      },
      "source": [
        "## Computationial Tools & Statistical Techniques\n"
      ]
    },
    {
      "cell_type": "markdown",
      "metadata": {
        "id": "WKlzBNY6a8B8"
      },
      "source": [
        "## Why Data Science?"
      ]
    },
    {
      "cell_type": "markdown",
      "metadata": {
        "id": "1s4N5DlrZQyO"
      },
      "source": [
        "# Plotting the Classics\n",
        "In this example, we will explore statistics for two classic novels: The Adventures of Huckleberry Finn by Mark Twain, and Little Women by Louisa May Alcott. The text of any book can be read by a computer at great speed. Books published before 1923 are currently in the public domain, meaning that everyone has the right to copy or use the text in any way. Project Gutenberg is a website that publishes public domain books online. Using Python, we can load the text of these books directly from the web.\n",
        "\n",
        "This example is meant to illustrate some of the broad themes of this text. Don't worry if the details of the program don't yet make sense. Instead, focus on interpreting the images generated below. Later sections of the text will describe most of the features of the Python programming language used below.\n",
        "\n",
        "First, we read the text of both books into lists of chapters, called huck_finn_chapters and little_women_chapters. In Python, a name cannot contain any spaces, and so we will often use an underscore _ to stand in for a space. The = in the lines below give a name on the left to the result of some computation described on the right. A uniform resource locator or URL is an address on the Internet for some content; in this case, the text of a book. The # symbol starts a comment, which is ignored by the computer but helpful for people reading the code."
      ]
    },
    {
      "cell_type": "markdown",
      "metadata": {
        "id": "31UADBOKbGbM"
      },
      "source": [
        "# Randomness"
      ]
    },
    {
      "cell_type": "markdown",
      "metadata": {
        "id": "p9tNfu9_bLZQ"
      },
      "source": [
        "## Simulation"
      ]
    },
    {
      "cell_type": "markdown",
      "metadata": {
        "id": "Aa-OUqvlbOjS"
      },
      "source": [
        "## The Monty Hall Problem"
      ]
    },
    {
      "cell_type": "markdown",
      "metadata": {
        "id": "RBdMUOgmbSAQ"
      },
      "source": [
        "## Computing Probabilities"
      ]
    }
  ]
}